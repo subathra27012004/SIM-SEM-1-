{
 "cells": [
  {
   "cell_type": "markdown",
   "id": "ea03ceb9-a1af-46a0-8a59-cfbe1e6d8a83",
   "metadata": {},
   "source": [
    "$$\\text{SIM ID: 10263704 }$$\n",
    "$$\\text{NAME: Subathra Sundarbabu}$$\n",
    "$$\\text{DATE: 3 Jan 2025}$$\n",
    "$$\\text{CM 2015 Programming With Data Mid Term}$$"
   ]
  },
  {
   "cell_type": "markdown",
   "id": "0779a7bb-beaa-45d4-8e08-7761a0491ed6",
   "metadata": {},
   "source": [
    "$$\\textbf{\\large How do people's choice of local versus global brands in India relate to global car production trends?}$$"
   ]
  },
  {
   "cell_type": "markdown",
   "id": "239efc29-d563-4648-bdac-7db3c041908d",
   "metadata": {},
   "source": [
    "## 1 An introduction to the research space:\n",
    "The used car marking in india is growing rapidly, with people choosing between different local and global brands. Their choices are oftern influenced by many factors like cost, brand, fuel type and many more. Local brands are often seen as affordable and practical while global brands offer advanced features with a premium image. This research will explore how the preference for local versus global car brands in India's used car market relate to global car production trends. It will give us insights into consumer choices in india reflect on global car manufacturing patters."
   ]
  },
  {
   "cell_type": "markdown",
   "id": "880690c9-08e5-46bf-bb1f-8e54d00f67d3",
   "metadata": {},
   "source": [
    "### 1.1 Aim & Objectives:\n",
    "The aim is to understand how people in india choose between local and global car brands. The main objective is to analyse the factors influencing brand preferences, compare the popularity of local brands with global brands and explore how these choices relate to global car production trends. This report will also explore how car prices, different car features and brand reputation impact consumer decisions, and provide insights into the overall trends in the indian used car market."
   ]
  },
  {
   "cell_type": "markdown",
   "id": "caa38c38-07c3-43f1-a05d-b062315915c2",
   "metadata": {},
   "source": [
    "### 1.2 Acquire a dataset:\n",
    "For this research, I will use 2 datasets:\n",
    "    \n",
    "1) **Used car in India**: This data is from Kaggle. It includes information about car brands, models, age, mileage, and prices.\n",
    "\n",
    "2) **Global Car Production By Region**: This dataset was web scraped from a website and shows the total number of car production for each country.\n",
    "\n",
    "These datasets are good for this research because they provide detailed information on India's used car market and global  car production, allowing for a comparison of India's car preferences and global production trends."
   ]
  },
  {
   "cell_type": "markdown",
   "id": "0ea69214-37a5-4ffd-a1d1-0bcf39d4585c",
   "metadata": {},
   "source": [
    "### 1.3 Utilise the dataset:\n",
    "The datasets will be used to explore brand preferences in the Indian used car market and compare them to global car production trends. The used car dataset will help analyze the popularity of local brands and global brands. \n",
    "\n",
    "The global car production dataset will provide insights into production trends. This is allow us to see how India’s brand preferences align with global manufacturing patterns. \n",
    "\n",
    "I have combined both dataset. Combining both datasets will offer a clearer understanding of consumer behavior in India."
   ]
  },
  {
   "cell_type": "markdown",
   "id": "0f8227f0-fc3f-4e63-a6c3-3e0fe5c18731",
   "metadata": {},
   "source": [
    "### 1.4 Communicate ideas and concepts clearly:\n",
    "The goal is to explain how people in India choose between local and global car brands and how this connects to global car production trends. The analysis will be presented clearly, using charts to make the data easy to understand. This approach ensures that the research is easy to follow and provides useful insights about the link between car buying habits in India and global car production trends."
   ]
  },
  {
   "cell_type": "markdown",
   "id": "99d93845-b416-434a-ba0b-6ca7699fd223",
   "metadata": {},
   "source": [
    "### 1.5 Summary of the area of research:\n",
    "This research focuses on understanding how people in India choose between local and global brands in the used car market. It explores the factors that influence these choices. The research also looks at how these preferences align with global car production trends, comparing car manufacturing data from different countries. By analyzing these patterns, the study aims to provide insights into consumer behavior in India and its connection to global production trends."
   ]
  },
  {
   "cell_type": "markdown",
   "id": "63e202e4-395c-4d77-bd02-848ad8098b86",
   "metadata": {},
   "source": [
    "## 2 Project background"
   ]
  },
  {
   "cell_type": "markdown",
   "id": "c32a27f3-095e-4714-a3eb-2c069d4efe05",
   "metadata": {},
   "source": [
    "### 2.1 Why the field is of interest/relevant\n",
    "This field is important because it examines the balance between local and global automotive brands in India’s used car market, which is a sector that is growing rapidly. Understanding these preferences can provide valuable insights for manufacturers and market analysts."
   ]
  },
  {
   "cell_type": "markdown",
   "id": "8d5a21cc-bab3-481a-8cb5-7a21016effaf",
   "metadata": {},
   "source": [
    "### 2.2 Previous exploration of the topic\n",
    "While there are studies on global car production and Indian market trends separately, the connection between Indian consumer preferences and global car production trends has not been fully explored, making this research unique."
   ]
  },
  {
   "cell_type": "markdown",
   "id": "d6d7dffb-3093-46ce-9715-e65262a031c7",
   "metadata": {},
   "source": [
    "### 2.3 Scope of Work\n",
    "The project will analyze Indian used car preferences based on brand and their relation to global production trends. It will not cover unrelated factors like regional taxes or export-import policies."
   ]
  },
  {
   "cell_type": "markdown",
   "id": "cc03e101-1d29-47bf-8631-e01ca5956faa",
   "metadata": {},
   "source": [
    "### 2.4 Steps in data processing pipeline\n",
    "The research involves cleaning and preparing the datasets, performing exploratory data analysis, creating visualizations to identify trends, and comparing brand preferences in India to global production data."
   ]
  },
  {
   "cell_type": "markdown",
   "id": "50a1ca77-cb2c-4bbf-9166-92c2227677ef",
   "metadata": {},
   "source": [
    "### 2.5 How I will evaluate my aims and objectives\n",
    "The evaluation will focus on analyzing trends and patterns in the data to see if they support the research question, ensuring that the objectives are addressed and the insights align with the aims."
   ]
  },
  {
   "cell_type": "markdown",
   "id": "2fc30b10-0fe4-49e9-bb10-802f661dda8d",
   "metadata": {},
   "source": [
    "## 3 Ethics of use of data have been considered"
   ]
  },
  {
   "cell_type": "markdown",
   "id": "8d9e15b5-ac21-4390-90d8-8a093fa853b7",
   "metadata": {},
   "source": [
    "### 3.1 Data Provenace and licensing\n",
    "The dataset comes from open sources, Kaggle and web-scraped global car production statistics. These sources are publicly accessible and licensed for research and analysis. Proper attribution is given to the original sources to respect intellectual property rights and maintain transparency."
   ]
  },
  {
   "cell_type": "markdown",
   "id": "4229cc1d-6a48-4120-a030-97a86c97a5a9",
   "metadata": {},
   "source": [
    "### 3.2 Intellectual Property and Attribution\n",
    "The analysis has the potential to generate new insights and intellectual property by uncovering trends in car brand preferences and their alignment with global production. All findings will be appropriately attributed to the dataset creators, ensuring ethical usage and acknowledgment."
   ]
  },
  {
   "cell_type": "markdown",
   "id": "ee7876fd-e7c6-418f-8c7c-5b251c67be92",
   "metadata": {},
   "source": [
    "### 3.3 Ethical Implications of data use\n",
    "Careful consideration is given to the implications of using this data. The analysis avoids promoting harmful assumptions or conclusions and ensures the research findings do not discriminate any groups. All interpretations will be context-sensitive and justified."
   ]
  },
  {
   "cell_type": "markdown",
   "id": "d88592e6-949b-4fe0-b083-cf90f2bace2b",
   "metadata": {},
   "source": [
    "### 3.4 Data Processing and Accessibility\n",
    "The data is accessible and processed directly in the notebook. Clear documentation of processing steps ensures traceability, enabling others to understand the workflow and outcomes."
   ]
  },
  {
   "cell_type": "markdown",
   "id": "8c48768d-1650-489d-bad2-5d84c32fe45a",
   "metadata": {},
   "source": [
    "### 3.5 Bias Considerations\n",
    "The potential for bias in the dataset has been reviewed. If the data disproportionately represents certain brands or countries, this bias will be acknowledged and addressed in the analysis to provide balanced insights. This ensures the findings are fair."
   ]
  },
  {
   "cell_type": "markdown",
   "id": "b3b9fbd8-238d-4010-8a90-ae19d3b298b1",
   "metadata": {},
   "source": [
    "## 4 Dataset 1: Kaggle Dataset (Used Car)"
   ]
  },
  {
   "cell_type": "markdown",
   "id": "e25a88d2-24d4-4256-9f90-817d45635bb3",
   "metadata": {},
   "source": [
    "### 4.1 Import Libraries"
   ]
  },
  {
   "cell_type": "code",
   "execution_count": 1,
   "id": "ad35fb82-5b02-4e32-9070-8380c6be37b9",
   "metadata": {},
   "outputs": [],
   "source": [
    "# Load the libraries: To start of with this analyses, we need the pandas library to load and clean the dataset.\n",
    "import pandas as pd"
   ]
  },
  {
   "cell_type": "markdown",
   "id": "d1761662-746a-4d56-9108-8a0b944761c7",
   "metadata": {},
   "source": [
    "### 4.2 Load Dataset"
   ]
  },
  {
   "cell_type": "code",
   "execution_count": 2,
   "id": "26317e9b-07f4-40eb-8e62-8019e5e8ea12",
   "metadata": {},
   "outputs": [],
   "source": [
    "# Load the kaggle dataset\n",
    "used_car_df = pd.read_csv(\"used_car_dataset.csv\")"
   ]
  },
  {
   "cell_type": "markdown",
   "id": "6c0213e3-7034-40af-9487-3c9d3e23d6ff",
   "metadata": {},
   "source": [
    "To view the first 5 rows, I have used the head function. This provides me with the overview of the different columns and the data stored."
   ]
  },
  {
   "cell_type": "code",
   "execution_count": 3,
   "id": "fcc37e48-f9d3-43ec-809f-dc20f066803d",
   "metadata": {},
   "outputs": [
    {
     "data": {
      "text/html": [
       "<div>\n",
       "<style scoped>\n",
       "    .dataframe tbody tr th:only-of-type {\n",
       "        vertical-align: middle;\n",
       "    }\n",
       "\n",
       "    .dataframe tbody tr th {\n",
       "        vertical-align: top;\n",
       "    }\n",
       "\n",
       "    .dataframe thead th {\n",
       "        text-align: right;\n",
       "    }\n",
       "</style>\n",
       "<table border=\"1\" class=\"dataframe\">\n",
       "  <thead>\n",
       "    <tr style=\"text-align: right;\">\n",
       "      <th></th>\n",
       "      <th>Brand</th>\n",
       "      <th>model</th>\n",
       "      <th>Year</th>\n",
       "      <th>Age</th>\n",
       "      <th>kmDriven</th>\n",
       "      <th>Transmission</th>\n",
       "      <th>Owner</th>\n",
       "      <th>FuelType</th>\n",
       "      <th>PostedDate</th>\n",
       "      <th>AdditionInfo</th>\n",
       "      <th>AskPrice</th>\n",
       "    </tr>\n",
       "  </thead>\n",
       "  <tbody>\n",
       "    <tr>\n",
       "      <th>0</th>\n",
       "      <td>Honda</td>\n",
       "      <td>City</td>\n",
       "      <td>2001</td>\n",
       "      <td>23</td>\n",
       "      <td>98,000 km</td>\n",
       "      <td>Manual</td>\n",
       "      <td>second</td>\n",
       "      <td>Petrol</td>\n",
       "      <td>Nov-24</td>\n",
       "      <td>Honda City v teck in mint condition, valid gen...</td>\n",
       "      <td>₹ 1,95,000</td>\n",
       "    </tr>\n",
       "    <tr>\n",
       "      <th>1</th>\n",
       "      <td>Toyota</td>\n",
       "      <td>Innova</td>\n",
       "      <td>2009</td>\n",
       "      <td>15</td>\n",
       "      <td>190000.0 km</td>\n",
       "      <td>Manual</td>\n",
       "      <td>second</td>\n",
       "      <td>Diesel</td>\n",
       "      <td>Jul-24</td>\n",
       "      <td>Toyota Innova 2.5 G (Diesel) 7 Seater, 2009, D...</td>\n",
       "      <td>₹ 3,75,000</td>\n",
       "    </tr>\n",
       "    <tr>\n",
       "      <th>2</th>\n",
       "      <td>Volkswagen</td>\n",
       "      <td>VentoTest</td>\n",
       "      <td>2010</td>\n",
       "      <td>14</td>\n",
       "      <td>77,246 km</td>\n",
       "      <td>Manual</td>\n",
       "      <td>first</td>\n",
       "      <td>Diesel</td>\n",
       "      <td>Nov-24</td>\n",
       "      <td>Volkswagen Vento 2010-2013 Diesel Breeze, 2010...</td>\n",
       "      <td>₹ 1,84,999</td>\n",
       "    </tr>\n",
       "    <tr>\n",
       "      <th>3</th>\n",
       "      <td>Maruti Suzuki</td>\n",
       "      <td>Swift</td>\n",
       "      <td>2017</td>\n",
       "      <td>7</td>\n",
       "      <td>83,500 km</td>\n",
       "      <td>Manual</td>\n",
       "      <td>second</td>\n",
       "      <td>Diesel</td>\n",
       "      <td>Nov-24</td>\n",
       "      <td>Maruti Suzuki Swift 2017 Diesel Good Condition</td>\n",
       "      <td>₹ 5,65,000</td>\n",
       "    </tr>\n",
       "    <tr>\n",
       "      <th>4</th>\n",
       "      <td>Maruti Suzuki</td>\n",
       "      <td>Baleno</td>\n",
       "      <td>2019</td>\n",
       "      <td>5</td>\n",
       "      <td>45,000 km</td>\n",
       "      <td>Automatic</td>\n",
       "      <td>first</td>\n",
       "      <td>Petrol</td>\n",
       "      <td>Nov-24</td>\n",
       "      <td>Maruti Suzuki Baleno Alpha CVT, 2019, Petrol</td>\n",
       "      <td>₹ 6,85,000</td>\n",
       "    </tr>\n",
       "  </tbody>\n",
       "</table>\n",
       "</div>"
      ],
      "text/plain": [
       "           Brand      model  Year  Age     kmDriven Transmission   Owner  \\\n",
       "0          Honda       City  2001   23    98,000 km       Manual  second   \n",
       "1         Toyota     Innova  2009   15  190000.0 km       Manual  second   \n",
       "2     Volkswagen  VentoTest  2010   14    77,246 km       Manual   first   \n",
       "3  Maruti Suzuki      Swift  2017    7    83,500 km       Manual  second   \n",
       "4  Maruti Suzuki     Baleno  2019    5    45,000 km    Automatic   first   \n",
       "\n",
       "  FuelType PostedDate                                       AdditionInfo  \\\n",
       "0   Petrol     Nov-24  Honda City v teck in mint condition, valid gen...   \n",
       "1   Diesel     Jul-24  Toyota Innova 2.5 G (Diesel) 7 Seater, 2009, D...   \n",
       "2   Diesel     Nov-24  Volkswagen Vento 2010-2013 Diesel Breeze, 2010...   \n",
       "3   Diesel     Nov-24     Maruti Suzuki Swift 2017 Diesel Good Condition   \n",
       "4   Petrol     Nov-24       Maruti Suzuki Baleno Alpha CVT, 2019, Petrol   \n",
       "\n",
       "     AskPrice  \n",
       "0  ₹ 1,95,000  \n",
       "1  ₹ 3,75,000  \n",
       "2  ₹ 1,84,999  \n",
       "3  ₹ 5,65,000  \n",
       "4  ₹ 6,85,000  "
      ]
     },
     "execution_count": 3,
     "metadata": {},
     "output_type": "execute_result"
    }
   ],
   "source": [
    "# To view the first 5 row\n",
    "used_car_df.head(5)"
   ]
  },
  {
   "cell_type": "markdown",
   "id": "a9ab2b3b-4c8c-4ea1-89bc-ffe80aa6a143",
   "metadata": {},
   "source": [
    "### 4.3 Relevancy of data and justified use of data source"
   ]
  },
  {
   "cell_type": "markdown",
   "id": "0693b16b-ba43-4040-909e-8aea3b071397",
   "metadata": {},
   "source": [
    "#### 4.3.1 Origin of the dataset\n",
    "The dataset comes from Kaggle and contains information on used cars in the Indian market. It includes details such as car brand, model, year, price, and other features, with 9,582 entries in total. This dataset was collected from various online sources of car listings in India, providing a comprehensive view of the used car market."
   ]
  },
  {
   "cell_type": "markdown",
   "id": "82286398-c9a9-4623-b703-076059274e52",
   "metadata": {},
   "source": [
    "#### 4.3.2 Why this data source is appropriate for the research question posed\n",
    "It provides detailed information on car brands, models, prices, and other features in the Indian market. These variables are essential for analyzing brand preferences in India, specifically comparing local brands like Maruti Suzuki with global brands such as Volkswagen and Toyota."
   ]
  },
  {
   "cell_type": "markdown",
   "id": "f498f3f9-dd37-4692-97c1-2ba2ba283f7d",
   "metadata": {},
   "source": [
    "#### 4.3.3 Clearly identifiable case for working with this specific type of data\n",
    "Brand, Model, and AskPrice columns, are directly linked to understanding consumer preferences in India, making it suitable for this research."
   ]
  },
  {
   "cell_type": "markdown",
   "id": "0f26f5ba-1db4-4bfa-955f-38b528d7fa2a",
   "metadata": {},
   "source": [
    "#### 4.3.4 Format of data is suitable for analysis\n",
    "Ussed car dataset is in csv format, making them easy to load and analyse using python. It have numerical and categorical data that supports statistical and comparative analysis."
   ]
  },
  {
   "cell_type": "markdown",
   "id": "519756c6-d119-4596-9d8b-3df56f733868",
   "metadata": {},
   "source": [
    "#### 4.3.5 Consideration of at least two other datasets\n",
    "Car sales data from differenet dealerships could offer more insights into consumer demand but might be geographically limited. A car registration dataset could provide real-time data but may lack details on car features or brand preferences."
   ]
  },
  {
   "cell_type": "markdown",
   "id": "0593ee0c-be7f-4fe1-88f5-ec05346e771f",
   "metadata": {},
   "source": [
    "I have used the count function to count the total number values in each column. From this, we can get an overview of how many total number of rows and values are there. "
   ]
  },
  {
   "cell_type": "code",
   "execution_count": 4,
   "id": "7a209837-423e-44a1-a2ef-5c3917807b8f",
   "metadata": {},
   "outputs": [
    {
     "data": {
      "text/plain": [
       "Brand           9582\n",
       "model           9582\n",
       "Year            9582\n",
       "Age             9582\n",
       "kmDriven        9535\n",
       "Transmission    9582\n",
       "Owner           9582\n",
       "FuelType        9582\n",
       "PostedDate      9582\n",
       "AdditionInfo    9582\n",
       "AskPrice        9582\n",
       "dtype: int64"
      ]
     },
     "execution_count": 4,
     "metadata": {},
     "output_type": "execute_result"
    }
   ],
   "source": [
    "# Counting non-null values in each column\n",
    "used_car_df.count()"
   ]
  },
  {
   "cell_type": "markdown",
   "id": "1c7aad78-9d6a-4ed9-adf9-913913c83cf4",
   "metadata": {},
   "source": [
    "Using the info function, I have print the information about the DataFrame. It provides a summary of the DataFrame, showing the data types, number of non-null entries, and memory usage."
   ]
  },
  {
   "cell_type": "code",
   "execution_count": 5,
   "id": "ec6a9612-52d3-4704-ad06-3e029f55e706",
   "metadata": {},
   "outputs": [
    {
     "name": "stdout",
     "output_type": "stream",
     "text": [
      "<class 'pandas.core.frame.DataFrame'>\n",
      "RangeIndex: 9582 entries, 0 to 9581\n",
      "Data columns (total 11 columns):\n",
      " #   Column        Non-Null Count  Dtype \n",
      "---  ------        --------------  ----- \n",
      " 0   Brand         9582 non-null   object\n",
      " 1   model         9582 non-null   object\n",
      " 2   Year          9582 non-null   int64 \n",
      " 3   Age           9582 non-null   int64 \n",
      " 4   kmDriven      9535 non-null   object\n",
      " 5   Transmission  9582 non-null   object\n",
      " 6   Owner         9582 non-null   object\n",
      " 7   FuelType      9582 non-null   object\n",
      " 8   PostedDate    9582 non-null   object\n",
      " 9   AdditionInfo  9582 non-null   object\n",
      " 10  AskPrice      9582 non-null   object\n",
      "dtypes: int64(2), object(9)\n",
      "memory usage: 823.6+ KB\n"
     ]
    }
   ],
   "source": [
    "# To print information about the DataFrame\n",
    "used_car_df.info()"
   ]
  },
  {
   "cell_type": "markdown",
   "id": "067d4de7-3c3d-4998-8a48-562c6d7c91cd",
   "metadata": {},
   "source": [
    "Based on the output of the info function, we can see that the data type for all columns are object except Age which is int64. Moreover, all the columns have 9582 non-null values except kmDriven column which have 9535 non-null values. To get a clear view of the total number of null values I have also used the isnull function."
   ]
  },
  {
   "cell_type": "code",
   "execution_count": 6,
   "id": "973379b5-8df3-4cb1-81f6-e5a5068136e8",
   "metadata": {},
   "outputs": [
    {
     "data": {
      "text/plain": [
       "Brand            0\n",
       "model            0\n",
       "Year             0\n",
       "Age              0\n",
       "kmDriven        47\n",
       "Transmission     0\n",
       "Owner            0\n",
       "FuelType         0\n",
       "PostedDate       0\n",
       "AdditionInfo     0\n",
       "AskPrice         0\n",
       "dtype: int64"
      ]
     },
     "execution_count": 6,
     "metadata": {},
     "output_type": "execute_result"
    }
   ],
   "source": [
    "# To find the total null values in each column\n",
    "used_car_df.isnull().sum()"
   ]
  },
  {
   "cell_type": "markdown",
   "id": "13bce70c-81e2-4a04-ba47-c2f57c39c6f4",
   "metadata": {},
   "source": [
    "The output shows that only the kmDriven column has 47 missing values, while all other columns have none. We need to address these missing values to get a cleaner dataset for our analysis. "
   ]
  },
  {
   "cell_type": "markdown",
   "id": "cac813ed-3710-4041-9ac0-3eeb352f3499",
   "metadata": {},
   "source": [
    "### 4.4 Data Cleaning"
   ]
  },
  {
   "cell_type": "markdown",
   "id": "c6339ed6-2dad-49df-acb7-39131816b1d2",
   "metadata": {},
   "source": [
    "#### 4.4.1 Cleaning kmDriven Column"
   ]
  },
  {
   "cell_type": "markdown",
   "id": "5ad2fb8a-6b8f-4466-bb08-86f6a405707b",
   "metadata": {},
   "source": [
    "I need to convert the datatype of kmDriven column from object to float, then fill in the missing values with median. Since the dataset is large, filling the missing values with the median is a best option as it reduces the impact of outliers in the kmDriven column."
   ]
  },
  {
   "cell_type": "code",
   "execution_count": 7,
   "id": "54df11b6-66e0-41f3-bfaf-f225393fb2a8",
   "metadata": {},
   "outputs": [],
   "source": [
    "# Convert kmDriven column to numeric, removing the km and comma\n",
    "used_car_df['kmDriven'] = used_car_df['kmDriven'].str.replace(' km', '', regex=True).str.replace(',', '',regex=True).astype(float)"
   ]
  },
  {
   "cell_type": "markdown",
   "id": "13fcbfb4-8c25-4953-94ce-b89969eaf584",
   "metadata": {},
   "source": [
    "I have used the describe function to generate summary statistics for the numerical columns in the DataFrame, including count, mean, standard deviation, min, and max values."
   ]
  },
  {
   "cell_type": "code",
   "execution_count": 8,
   "id": "7ff88ca7-91b9-43c2-8f21-08fa83b0f11c",
   "metadata": {},
   "outputs": [
    {
     "data": {
      "text/html": [
       "<div>\n",
       "<style scoped>\n",
       "    .dataframe tbody tr th:only-of-type {\n",
       "        vertical-align: middle;\n",
       "    }\n",
       "\n",
       "    .dataframe tbody tr th {\n",
       "        vertical-align: top;\n",
       "    }\n",
       "\n",
       "    .dataframe thead th {\n",
       "        text-align: right;\n",
       "    }\n",
       "</style>\n",
       "<table border=\"1\" class=\"dataframe\">\n",
       "  <thead>\n",
       "    <tr style=\"text-align: right;\">\n",
       "      <th></th>\n",
       "      <th>Year</th>\n",
       "      <th>Age</th>\n",
       "      <th>kmDriven</th>\n",
       "    </tr>\n",
       "  </thead>\n",
       "  <tbody>\n",
       "    <tr>\n",
       "      <th>count</th>\n",
       "      <td>9582.000000</td>\n",
       "      <td>9582.000000</td>\n",
       "      <td>9535.000000</td>\n",
       "    </tr>\n",
       "    <tr>\n",
       "      <th>mean</th>\n",
       "      <td>2016.361094</td>\n",
       "      <td>7.638906</td>\n",
       "      <td>70605.891453</td>\n",
       "    </tr>\n",
       "    <tr>\n",
       "      <th>std</th>\n",
       "      <td>4.087226</td>\n",
       "      <td>4.087226</td>\n",
       "      <td>56308.596299</td>\n",
       "    </tr>\n",
       "    <tr>\n",
       "      <th>min</th>\n",
       "      <td>1986.000000</td>\n",
       "      <td>0.000000</td>\n",
       "      <td>0.000000</td>\n",
       "    </tr>\n",
       "    <tr>\n",
       "      <th>25%</th>\n",
       "      <td>2014.000000</td>\n",
       "      <td>5.000000</td>\n",
       "      <td>43000.000000</td>\n",
       "    </tr>\n",
       "    <tr>\n",
       "      <th>50%</th>\n",
       "      <td>2017.000000</td>\n",
       "      <td>7.000000</td>\n",
       "      <td>65000.000000</td>\n",
       "    </tr>\n",
       "    <tr>\n",
       "      <th>75%</th>\n",
       "      <td>2019.000000</td>\n",
       "      <td>10.000000</td>\n",
       "      <td>86000.000000</td>\n",
       "    </tr>\n",
       "    <tr>\n",
       "      <th>max</th>\n",
       "      <td>2024.000000</td>\n",
       "      <td>38.000000</td>\n",
       "      <td>980002.000000</td>\n",
       "    </tr>\n",
       "  </tbody>\n",
       "</table>\n",
       "</div>"
      ],
      "text/plain": [
       "              Year          Age       kmDriven\n",
       "count  9582.000000  9582.000000    9535.000000\n",
       "mean   2016.361094     7.638906   70605.891453\n",
       "std       4.087226     4.087226   56308.596299\n",
       "min    1986.000000     0.000000       0.000000\n",
       "25%    2014.000000     5.000000   43000.000000\n",
       "50%    2017.000000     7.000000   65000.000000\n",
       "75%    2019.000000    10.000000   86000.000000\n",
       "max    2024.000000    38.000000  980002.000000"
      ]
     },
     "execution_count": 8,
     "metadata": {},
     "output_type": "execute_result"
    }
   ],
   "source": [
    "# Check the distribution for the different columns\n",
    "used_car_df.describe()"
   ]
  },
  {
   "cell_type": "markdown",
   "id": "01eb2d3c-4582-4e78-a9fb-74809fe1e2f9",
   "metadata": {},
   "source": [
    "Based from the describe output, we can see that:\n",
    "1. Most cars in the dataset are between 5-10 years old and have driven 43,000-86,000 km, based on the 25th and 75th percentiles for age and km driven.\n",
    "2. Newer cars tend to have lower mileage, while older cars have higher mileage, as seen in the distribution of the Age and kmDriven columns. \n",
    "3. The dataset mainly consists of cars from 2014-2019, reflecting the median and range of years, indicating a balance of older and newer vehicles."
   ]
  },
  {
   "cell_type": "markdown",
   "id": "031c5515-d2a3-4aa3-85eb-59b20a7421bc",
   "metadata": {},
   "source": [
    "Next, I have imported the warnings library to avoid any warning messages that might appear when running the code, ensuring the output remains clean and focused. "
   ]
  },
  {
   "cell_type": "code",
   "execution_count": 9,
   "id": "fb9ba827-2559-4168-a229-ca5d50e02c7b",
   "metadata": {},
   "outputs": [],
   "source": [
    "import warnings\n",
    "warnings.filterwarnings(\"ignore\")"
   ]
  },
  {
   "cell_type": "markdown",
   "id": "12c2c87e-5db6-4701-b0aa-443c40742cfd",
   "metadata": {},
   "source": [
    "As I mentioned earlier, I have used the fillna function to fill the null values in the kmDriven column with the median value, ensuring that the data is clean."
   ]
  },
  {
   "cell_type": "code",
   "execution_count": 10,
   "id": "f6dd8cad-5674-4b16-8958-4bab64838b0f",
   "metadata": {},
   "outputs": [],
   "source": [
    "# Fill missing values with the median\n",
    "used_car_df['kmDriven'].fillna(used_car_df['kmDriven'].median(), inplace=True)"
   ]
  },
  {
   "cell_type": "markdown",
   "id": "a5dc39f7-3778-4dac-9b21-4c7652a13d98",
   "metadata": {},
   "source": [
    "To check all the null values are treated properly in the kmDriven column, I have used the isnull function again."
   ]
  },
  {
   "cell_type": "code",
   "execution_count": 11,
   "id": "27897c25-4859-41c0-b821-ac7ccdeaf7f6",
   "metadata": {},
   "outputs": [
    {
     "data": {
      "text/plain": [
       "Brand           0\n",
       "model           0\n",
       "Year            0\n",
       "Age             0\n",
       "kmDriven        0\n",
       "Transmission    0\n",
       "Owner           0\n",
       "FuelType        0\n",
       "PostedDate      0\n",
       "AdditionInfo    0\n",
       "AskPrice        0\n",
       "dtype: int64"
      ]
     },
     "execution_count": 11,
     "metadata": {},
     "output_type": "execute_result"
    }
   ],
   "source": [
    "# Verify there is no missing values\n",
    "used_car_df.isnull().sum()"
   ]
  },
  {
   "cell_type": "markdown",
   "id": "2dc27640-33f9-44dd-af31-dc8104ff2a78",
   "metadata": {},
   "source": [
    "#### 4.4.2 Cleaning AskPrice Column"
   ]
  },
  {
   "cell_type": "markdown",
   "id": "5d0e6898-961c-4822-b31c-869dbd22e7ab",
   "metadata": {},
   "source": [
    "AskPrice column needs to be cleaned because it contains non-numeric values, price symbol. Cleaning the column will ensure that all values are in a consistent, numerical format for accurate analysis."
   ]
  },
  {
   "cell_type": "code",
   "execution_count": 12,
   "id": "0fe7d5f9-339b-4275-ae27-007e1422f10f",
   "metadata": {},
   "outputs": [
    {
     "data": {
      "text/html": [
       "<div>\n",
       "<style scoped>\n",
       "    .dataframe tbody tr th:only-of-type {\n",
       "        vertical-align: middle;\n",
       "    }\n",
       "\n",
       "    .dataframe tbody tr th {\n",
       "        vertical-align: top;\n",
       "    }\n",
       "\n",
       "    .dataframe thead th {\n",
       "        text-align: right;\n",
       "    }\n",
       "</style>\n",
       "<table border=\"1\" class=\"dataframe\">\n",
       "  <thead>\n",
       "    <tr style=\"text-align: right;\">\n",
       "      <th></th>\n",
       "      <th>Brand</th>\n",
       "      <th>model</th>\n",
       "      <th>Year</th>\n",
       "      <th>Age</th>\n",
       "      <th>kmDriven</th>\n",
       "      <th>Transmission</th>\n",
       "      <th>Owner</th>\n",
       "      <th>FuelType</th>\n",
       "      <th>PostedDate</th>\n",
       "      <th>AdditionInfo</th>\n",
       "      <th>AskPrice</th>\n",
       "    </tr>\n",
       "  </thead>\n",
       "  <tbody>\n",
       "    <tr>\n",
       "      <th>0</th>\n",
       "      <td>Honda</td>\n",
       "      <td>City</td>\n",
       "      <td>2001</td>\n",
       "      <td>23</td>\n",
       "      <td>98000.0</td>\n",
       "      <td>Manual</td>\n",
       "      <td>second</td>\n",
       "      <td>Petrol</td>\n",
       "      <td>Nov-24</td>\n",
       "      <td>Honda City v teck in mint condition, valid gen...</td>\n",
       "      <td>₹ 1,95,000</td>\n",
       "    </tr>\n",
       "    <tr>\n",
       "      <th>1</th>\n",
       "      <td>Toyota</td>\n",
       "      <td>Innova</td>\n",
       "      <td>2009</td>\n",
       "      <td>15</td>\n",
       "      <td>190000.0</td>\n",
       "      <td>Manual</td>\n",
       "      <td>second</td>\n",
       "      <td>Diesel</td>\n",
       "      <td>Jul-24</td>\n",
       "      <td>Toyota Innova 2.5 G (Diesel) 7 Seater, 2009, D...</td>\n",
       "      <td>₹ 3,75,000</td>\n",
       "    </tr>\n",
       "    <tr>\n",
       "      <th>2</th>\n",
       "      <td>Volkswagen</td>\n",
       "      <td>VentoTest</td>\n",
       "      <td>2010</td>\n",
       "      <td>14</td>\n",
       "      <td>77246.0</td>\n",
       "      <td>Manual</td>\n",
       "      <td>first</td>\n",
       "      <td>Diesel</td>\n",
       "      <td>Nov-24</td>\n",
       "      <td>Volkswagen Vento 2010-2013 Diesel Breeze, 2010...</td>\n",
       "      <td>₹ 1,84,999</td>\n",
       "    </tr>\n",
       "    <tr>\n",
       "      <th>3</th>\n",
       "      <td>Maruti Suzuki</td>\n",
       "      <td>Swift</td>\n",
       "      <td>2017</td>\n",
       "      <td>7</td>\n",
       "      <td>83500.0</td>\n",
       "      <td>Manual</td>\n",
       "      <td>second</td>\n",
       "      <td>Diesel</td>\n",
       "      <td>Nov-24</td>\n",
       "      <td>Maruti Suzuki Swift 2017 Diesel Good Condition</td>\n",
       "      <td>₹ 5,65,000</td>\n",
       "    </tr>\n",
       "    <tr>\n",
       "      <th>4</th>\n",
       "      <td>Maruti Suzuki</td>\n",
       "      <td>Baleno</td>\n",
       "      <td>2019</td>\n",
       "      <td>5</td>\n",
       "      <td>45000.0</td>\n",
       "      <td>Automatic</td>\n",
       "      <td>first</td>\n",
       "      <td>Petrol</td>\n",
       "      <td>Nov-24</td>\n",
       "      <td>Maruti Suzuki Baleno Alpha CVT, 2019, Petrol</td>\n",
       "      <td>₹ 6,85,000</td>\n",
       "    </tr>\n",
       "  </tbody>\n",
       "</table>\n",
       "</div>"
      ],
      "text/plain": [
       "           Brand      model  Year  Age  kmDriven Transmission   Owner  \\\n",
       "0          Honda       City  2001   23   98000.0       Manual  second   \n",
       "1         Toyota     Innova  2009   15  190000.0       Manual  second   \n",
       "2     Volkswagen  VentoTest  2010   14   77246.0       Manual   first   \n",
       "3  Maruti Suzuki      Swift  2017    7   83500.0       Manual  second   \n",
       "4  Maruti Suzuki     Baleno  2019    5   45000.0    Automatic   first   \n",
       "\n",
       "  FuelType PostedDate                                       AdditionInfo  \\\n",
       "0   Petrol     Nov-24  Honda City v teck in mint condition, valid gen...   \n",
       "1   Diesel     Jul-24  Toyota Innova 2.5 G (Diesel) 7 Seater, 2009, D...   \n",
       "2   Diesel     Nov-24  Volkswagen Vento 2010-2013 Diesel Breeze, 2010...   \n",
       "3   Diesel     Nov-24     Maruti Suzuki Swift 2017 Diesel Good Condition   \n",
       "4   Petrol     Nov-24       Maruti Suzuki Baleno Alpha CVT, 2019, Petrol   \n",
       "\n",
       "     AskPrice  \n",
       "0  ₹ 1,95,000  \n",
       "1  ₹ 3,75,000  \n",
       "2  ₹ 1,84,999  \n",
       "3  ₹ 5,65,000  \n",
       "4  ₹ 6,85,000  "
      ]
     },
     "execution_count": 12,
     "metadata": {},
     "output_type": "execute_result"
    }
   ],
   "source": [
    "used_car_df.head()"
   ]
  },
  {
   "cell_type": "markdown",
   "id": "2e40cd22-1baa-4581-a607-c946ac00d230",
   "metadata": {},
   "source": [
    "As mentioned earlier, the AskPrice column has the price symbol and we need to remove that to analyse the dataset further. Hence, we need to convert it to a numeric format for analysis."
   ]
  },
  {
   "cell_type": "code",
   "execution_count": 13,
   "id": "0f6c2dab-2192-4433-bd6e-ffe594711314",
   "metadata": {},
   "outputs": [],
   "source": [
    "# Clean and convert 'AskPrice' to numeric\n",
    "used_car_df['AskPrice'] = used_car_df['AskPrice'].str.replace('₹', '', regex=True).str.replace(',', '', regex=True).astype(float)"
   ]
  },
  {
   "cell_type": "code",
   "execution_count": 14,
   "id": "cb6ad450-5a33-48f4-be1b-e81e8e727e32",
   "metadata": {},
   "outputs": [
    {
     "data": {
      "text/html": [
       "<div>\n",
       "<style scoped>\n",
       "    .dataframe tbody tr th:only-of-type {\n",
       "        vertical-align: middle;\n",
       "    }\n",
       "\n",
       "    .dataframe tbody tr th {\n",
       "        vertical-align: top;\n",
       "    }\n",
       "\n",
       "    .dataframe thead th {\n",
       "        text-align: right;\n",
       "    }\n",
       "</style>\n",
       "<table border=\"1\" class=\"dataframe\">\n",
       "  <thead>\n",
       "    <tr style=\"text-align: right;\">\n",
       "      <th></th>\n",
       "      <th>Brand</th>\n",
       "      <th>model</th>\n",
       "      <th>Year</th>\n",
       "      <th>Age</th>\n",
       "      <th>kmDriven</th>\n",
       "      <th>Transmission</th>\n",
       "      <th>Owner</th>\n",
       "      <th>FuelType</th>\n",
       "      <th>PostedDate</th>\n",
       "      <th>AdditionInfo</th>\n",
       "      <th>AskPrice</th>\n",
       "    </tr>\n",
       "  </thead>\n",
       "  <tbody>\n",
       "    <tr>\n",
       "      <th>0</th>\n",
       "      <td>Honda</td>\n",
       "      <td>City</td>\n",
       "      <td>2001</td>\n",
       "      <td>23</td>\n",
       "      <td>98000.0</td>\n",
       "      <td>Manual</td>\n",
       "      <td>second</td>\n",
       "      <td>Petrol</td>\n",
       "      <td>Nov-24</td>\n",
       "      <td>Honda City v teck in mint condition, valid gen...</td>\n",
       "      <td>195000.0</td>\n",
       "    </tr>\n",
       "    <tr>\n",
       "      <th>1</th>\n",
       "      <td>Toyota</td>\n",
       "      <td>Innova</td>\n",
       "      <td>2009</td>\n",
       "      <td>15</td>\n",
       "      <td>190000.0</td>\n",
       "      <td>Manual</td>\n",
       "      <td>second</td>\n",
       "      <td>Diesel</td>\n",
       "      <td>Jul-24</td>\n",
       "      <td>Toyota Innova 2.5 G (Diesel) 7 Seater, 2009, D...</td>\n",
       "      <td>375000.0</td>\n",
       "    </tr>\n",
       "    <tr>\n",
       "      <th>2</th>\n",
       "      <td>Volkswagen</td>\n",
       "      <td>VentoTest</td>\n",
       "      <td>2010</td>\n",
       "      <td>14</td>\n",
       "      <td>77246.0</td>\n",
       "      <td>Manual</td>\n",
       "      <td>first</td>\n",
       "      <td>Diesel</td>\n",
       "      <td>Nov-24</td>\n",
       "      <td>Volkswagen Vento 2010-2013 Diesel Breeze, 2010...</td>\n",
       "      <td>184999.0</td>\n",
       "    </tr>\n",
       "    <tr>\n",
       "      <th>3</th>\n",
       "      <td>Maruti Suzuki</td>\n",
       "      <td>Swift</td>\n",
       "      <td>2017</td>\n",
       "      <td>7</td>\n",
       "      <td>83500.0</td>\n",
       "      <td>Manual</td>\n",
       "      <td>second</td>\n",
       "      <td>Diesel</td>\n",
       "      <td>Nov-24</td>\n",
       "      <td>Maruti Suzuki Swift 2017 Diesel Good Condition</td>\n",
       "      <td>565000.0</td>\n",
       "    </tr>\n",
       "    <tr>\n",
       "      <th>4</th>\n",
       "      <td>Maruti Suzuki</td>\n",
       "      <td>Baleno</td>\n",
       "      <td>2019</td>\n",
       "      <td>5</td>\n",
       "      <td>45000.0</td>\n",
       "      <td>Automatic</td>\n",
       "      <td>first</td>\n",
       "      <td>Petrol</td>\n",
       "      <td>Nov-24</td>\n",
       "      <td>Maruti Suzuki Baleno Alpha CVT, 2019, Petrol</td>\n",
       "      <td>685000.0</td>\n",
       "    </tr>\n",
       "  </tbody>\n",
       "</table>\n",
       "</div>"
      ],
      "text/plain": [
       "           Brand      model  Year  Age  kmDriven Transmission   Owner  \\\n",
       "0          Honda       City  2001   23   98000.0       Manual  second   \n",
       "1         Toyota     Innova  2009   15  190000.0       Manual  second   \n",
       "2     Volkswagen  VentoTest  2010   14   77246.0       Manual   first   \n",
       "3  Maruti Suzuki      Swift  2017    7   83500.0       Manual  second   \n",
       "4  Maruti Suzuki     Baleno  2019    5   45000.0    Automatic   first   \n",
       "\n",
       "  FuelType PostedDate                                       AdditionInfo  \\\n",
       "0   Petrol     Nov-24  Honda City v teck in mint condition, valid gen...   \n",
       "1   Diesel     Jul-24  Toyota Innova 2.5 G (Diesel) 7 Seater, 2009, D...   \n",
       "2   Diesel     Nov-24  Volkswagen Vento 2010-2013 Diesel Breeze, 2010...   \n",
       "3   Diesel     Nov-24     Maruti Suzuki Swift 2017 Diesel Good Condition   \n",
       "4   Petrol     Nov-24       Maruti Suzuki Baleno Alpha CVT, 2019, Petrol   \n",
       "\n",
       "   AskPrice  \n",
       "0  195000.0  \n",
       "1  375000.0  \n",
       "2  184999.0  \n",
       "3  565000.0  \n",
       "4  685000.0  "
      ]
     },
     "execution_count": 14,
     "metadata": {},
     "output_type": "execute_result"
    }
   ],
   "source": [
    "# Verify the cleaning process is done\n",
    "used_car_df.head()"
   ]
  },
  {
   "cell_type": "markdown",
   "id": "f6a9d898-6eee-4e07-b8cd-71e831f4ce73",
   "metadata": {},
   "source": [
    "### 4.5 Dropping Columns"
   ]
  },
  {
   "cell_type": "markdown",
   "id": "754e170a-6eca-43d7-b7bf-3d35d77320aa",
   "metadata": {},
   "source": [
    "I need to remove the PostedDate and AdditionInfo columns because as it does not contribute any value to my analysis."
   ]
  },
  {
   "cell_type": "code",
   "execution_count": 15,
   "id": "514d0958-75ef-4a1a-ab9f-e76af58bc716",
   "metadata": {},
   "outputs": [
    {
     "data": {
      "text/html": [
       "<div>\n",
       "<style scoped>\n",
       "    .dataframe tbody tr th:only-of-type {\n",
       "        vertical-align: middle;\n",
       "    }\n",
       "\n",
       "    .dataframe tbody tr th {\n",
       "        vertical-align: top;\n",
       "    }\n",
       "\n",
       "    .dataframe thead th {\n",
       "        text-align: right;\n",
       "    }\n",
       "</style>\n",
       "<table border=\"1\" class=\"dataframe\">\n",
       "  <thead>\n",
       "    <tr style=\"text-align: right;\">\n",
       "      <th></th>\n",
       "      <th>Brand</th>\n",
       "      <th>model</th>\n",
       "      <th>Year</th>\n",
       "      <th>Age</th>\n",
       "      <th>kmDriven</th>\n",
       "      <th>Transmission</th>\n",
       "      <th>Owner</th>\n",
       "      <th>FuelType</th>\n",
       "      <th>AskPrice</th>\n",
       "    </tr>\n",
       "  </thead>\n",
       "  <tbody>\n",
       "    <tr>\n",
       "      <th>0</th>\n",
       "      <td>Honda</td>\n",
       "      <td>City</td>\n",
       "      <td>2001</td>\n",
       "      <td>23</td>\n",
       "      <td>98000.0</td>\n",
       "      <td>Manual</td>\n",
       "      <td>second</td>\n",
       "      <td>Petrol</td>\n",
       "      <td>195000.0</td>\n",
       "    </tr>\n",
       "    <tr>\n",
       "      <th>1</th>\n",
       "      <td>Toyota</td>\n",
       "      <td>Innova</td>\n",
       "      <td>2009</td>\n",
       "      <td>15</td>\n",
       "      <td>190000.0</td>\n",
       "      <td>Manual</td>\n",
       "      <td>second</td>\n",
       "      <td>Diesel</td>\n",
       "      <td>375000.0</td>\n",
       "    </tr>\n",
       "    <tr>\n",
       "      <th>2</th>\n",
       "      <td>Volkswagen</td>\n",
       "      <td>VentoTest</td>\n",
       "      <td>2010</td>\n",
       "      <td>14</td>\n",
       "      <td>77246.0</td>\n",
       "      <td>Manual</td>\n",
       "      <td>first</td>\n",
       "      <td>Diesel</td>\n",
       "      <td>184999.0</td>\n",
       "    </tr>\n",
       "    <tr>\n",
       "      <th>3</th>\n",
       "      <td>Maruti Suzuki</td>\n",
       "      <td>Swift</td>\n",
       "      <td>2017</td>\n",
       "      <td>7</td>\n",
       "      <td>83500.0</td>\n",
       "      <td>Manual</td>\n",
       "      <td>second</td>\n",
       "      <td>Diesel</td>\n",
       "      <td>565000.0</td>\n",
       "    </tr>\n",
       "    <tr>\n",
       "      <th>4</th>\n",
       "      <td>Maruti Suzuki</td>\n",
       "      <td>Baleno</td>\n",
       "      <td>2019</td>\n",
       "      <td>5</td>\n",
       "      <td>45000.0</td>\n",
       "      <td>Automatic</td>\n",
       "      <td>first</td>\n",
       "      <td>Petrol</td>\n",
       "      <td>685000.0</td>\n",
       "    </tr>\n",
       "  </tbody>\n",
       "</table>\n",
       "</div>"
      ],
      "text/plain": [
       "           Brand      model  Year  Age  kmDriven Transmission   Owner  \\\n",
       "0          Honda       City  2001   23   98000.0       Manual  second   \n",
       "1         Toyota     Innova  2009   15  190000.0       Manual  second   \n",
       "2     Volkswagen  VentoTest  2010   14   77246.0       Manual   first   \n",
       "3  Maruti Suzuki      Swift  2017    7   83500.0       Manual  second   \n",
       "4  Maruti Suzuki     Baleno  2019    5   45000.0    Automatic   first   \n",
       "\n",
       "  FuelType  AskPrice  \n",
       "0   Petrol  195000.0  \n",
       "1   Diesel  375000.0  \n",
       "2   Diesel  184999.0  \n",
       "3   Diesel  565000.0  \n",
       "4   Petrol  685000.0  "
      ]
     },
     "execution_count": 15,
     "metadata": {},
     "output_type": "execute_result"
    }
   ],
   "source": [
    "# Dropping columns that are not relevant\n",
    "used_car_df.drop(['PostedDate', 'AdditionInfo'], axis=1, inplace=True)\n",
    "used_car_df.head()"
   ]
  },
  {
   "cell_type": "markdown",
   "id": "ca8be780-8170-42db-81cd-4b02138cf039",
   "metadata": {},
   "source": [
    "### 4.6 Lambda Function"
   ]
  },
  {
   "cell_type": "markdown",
   "id": "600f1823-1754-4cd4-8b2e-06f9ddd82f37",
   "metadata": {},
   "source": [
    "To categorize the brands into local and global I have used the unique function to find out the different brands."
   ]
  },
  {
   "cell_type": "code",
   "execution_count": 16,
   "id": "1f32fd16-6771-4ffe-bc6f-2caee352042e",
   "metadata": {},
   "outputs": [
    {
     "data": {
      "text/plain": [
       "array(['Honda', 'Toyota', 'Volkswagen', 'Maruti Suzuki', 'BMW', 'Ford',\n",
       "       'Kia', 'Mercedes-Benz', 'Hyundai', 'Audi', 'Renault', 'MG',\n",
       "       'Volvo', 'Skoda', 'Tata', 'Mahindra', 'Mini', 'Land Rover', 'Jeep',\n",
       "       'Chevrolet', 'Jaguar', 'Fiat', 'Aston Martin', 'Porsche', 'Nissan',\n",
       "       'Force', 'Mitsubishi', 'Lexus', 'Isuzu', 'Datsun', 'Ambassador',\n",
       "       'Rolls-Royce', 'ICML', 'Bajaj', 'Opel', 'Ashok', 'Bentley',\n",
       "       'Ssangyong', 'Maserati'], dtype=object)"
      ]
     },
     "execution_count": 16,
     "metadata": {},
     "output_type": "execute_result"
    }
   ],
   "source": [
    "unique_brands = used_car_df['Brand'].unique()\n",
    "unique_brands"
   ]
  },
  {
   "cell_type": "markdown",
   "id": "88822fe0-007a-4fee-a4d4-70d7702fcd37",
   "metadata": {},
   "source": [
    "I have used lambda function to categorize the brands into Local and Global based on my list of unique brand values, which can later use for visualization and analysis."
   ]
  },
  {
   "cell_type": "code",
   "execution_count": 17,
   "id": "905f1457-846a-4130-aab0-697bba60cc5f",
   "metadata": {},
   "outputs": [
    {
     "data": {
      "text/html": [
       "<div>\n",
       "<style scoped>\n",
       "    .dataframe tbody tr th:only-of-type {\n",
       "        vertical-align: middle;\n",
       "    }\n",
       "\n",
       "    .dataframe tbody tr th {\n",
       "        vertical-align: top;\n",
       "    }\n",
       "\n",
       "    .dataframe thead th {\n",
       "        text-align: right;\n",
       "    }\n",
       "</style>\n",
       "<table border=\"1\" class=\"dataframe\">\n",
       "  <thead>\n",
       "    <tr style=\"text-align: right;\">\n",
       "      <th></th>\n",
       "      <th>Brand</th>\n",
       "      <th>model</th>\n",
       "      <th>Year</th>\n",
       "      <th>Age</th>\n",
       "      <th>kmDriven</th>\n",
       "      <th>Transmission</th>\n",
       "      <th>Owner</th>\n",
       "      <th>FuelType</th>\n",
       "      <th>AskPrice</th>\n",
       "      <th>BrandCategory</th>\n",
       "    </tr>\n",
       "  </thead>\n",
       "  <tbody>\n",
       "    <tr>\n",
       "      <th>0</th>\n",
       "      <td>Honda</td>\n",
       "      <td>City</td>\n",
       "      <td>2001</td>\n",
       "      <td>23</td>\n",
       "      <td>98000.0</td>\n",
       "      <td>Manual</td>\n",
       "      <td>second</td>\n",
       "      <td>Petrol</td>\n",
       "      <td>195000.0</td>\n",
       "      <td>Global</td>\n",
       "    </tr>\n",
       "    <tr>\n",
       "      <th>1</th>\n",
       "      <td>Toyota</td>\n",
       "      <td>Innova</td>\n",
       "      <td>2009</td>\n",
       "      <td>15</td>\n",
       "      <td>190000.0</td>\n",
       "      <td>Manual</td>\n",
       "      <td>second</td>\n",
       "      <td>Diesel</td>\n",
       "      <td>375000.0</td>\n",
       "      <td>Global</td>\n",
       "    </tr>\n",
       "    <tr>\n",
       "      <th>2</th>\n",
       "      <td>Volkswagen</td>\n",
       "      <td>VentoTest</td>\n",
       "      <td>2010</td>\n",
       "      <td>14</td>\n",
       "      <td>77246.0</td>\n",
       "      <td>Manual</td>\n",
       "      <td>first</td>\n",
       "      <td>Diesel</td>\n",
       "      <td>184999.0</td>\n",
       "      <td>Global</td>\n",
       "    </tr>\n",
       "    <tr>\n",
       "      <th>3</th>\n",
       "      <td>Maruti Suzuki</td>\n",
       "      <td>Swift</td>\n",
       "      <td>2017</td>\n",
       "      <td>7</td>\n",
       "      <td>83500.0</td>\n",
       "      <td>Manual</td>\n",
       "      <td>second</td>\n",
       "      <td>Diesel</td>\n",
       "      <td>565000.0</td>\n",
       "      <td>Local</td>\n",
       "    </tr>\n",
       "    <tr>\n",
       "      <th>4</th>\n",
       "      <td>Maruti Suzuki</td>\n",
       "      <td>Baleno</td>\n",
       "      <td>2019</td>\n",
       "      <td>5</td>\n",
       "      <td>45000.0</td>\n",
       "      <td>Automatic</td>\n",
       "      <td>first</td>\n",
       "      <td>Petrol</td>\n",
       "      <td>685000.0</td>\n",
       "      <td>Local</td>\n",
       "    </tr>\n",
       "  </tbody>\n",
       "</table>\n",
       "</div>"
      ],
      "text/plain": [
       "           Brand      model  Year  Age  kmDriven Transmission   Owner  \\\n",
       "0          Honda       City  2001   23   98000.0       Manual  second   \n",
       "1         Toyota     Innova  2009   15  190000.0       Manual  second   \n",
       "2     Volkswagen  VentoTest  2010   14   77246.0       Manual   first   \n",
       "3  Maruti Suzuki      Swift  2017    7   83500.0       Manual  second   \n",
       "4  Maruti Suzuki     Baleno  2019    5   45000.0    Automatic   first   \n",
       "\n",
       "  FuelType  AskPrice BrandCategory  \n",
       "0   Petrol  195000.0        Global  \n",
       "1   Diesel  375000.0        Global  \n",
       "2   Diesel  184999.0        Global  \n",
       "3   Diesel  565000.0         Local  \n",
       "4   Petrol  685000.0         Local  "
      ]
     },
     "execution_count": 17,
     "metadata": {},
     "output_type": "execute_result"
    }
   ],
   "source": [
    "local_brands = [\"Maruti Suzuki\", \"Tata\", \"Mahindra\"]\n",
    "used_car_df['BrandCategory'] = used_car_df['Brand'].apply(lambda x: 'Local' if x in local_brands else 'Global')\n",
    "used_car_df.head()"
   ]
  },
  {
   "cell_type": "markdown",
   "id": "f001808e-9509-4971-8eb7-ae8aedf1778e",
   "metadata": {},
   "source": [
    "### 4.6 Data Exploration and Visualization"
   ]
  },
  {
   "cell_type": "markdown",
   "id": "6185705c-fb42-4ec1-b016-abc7462e5490",
   "metadata": {},
   "source": [
    "#### 4.6.1 Import Libraries"
   ]
  },
  {
   "cell_type": "markdown",
   "id": "68ca6bbe-777d-48ec-8641-791c3ab7643d",
   "metadata": {},
   "source": [
    "I have imported the required library which is matplotlib and seaborn to start with my visualizations."
   ]
  },
  {
   "cell_type": "code",
   "execution_count": 18,
   "id": "8d0ca1f7-0e42-4a33-9c47-c4f3beb72bbd",
   "metadata": {},
   "outputs": [],
   "source": [
    "import matplotlib.pyplot as plt\n",
    "import seaborn as sns"
   ]
  },
  {
   "cell_type": "markdown",
   "id": "da57f295-fa74-4f02-bc94-898951d2cfcd",
   "metadata": {},
   "source": [
    "#### 4.6.2 Count of Local vs Global Brands"
   ]
  },
  {
   "cell_type": "markdown",
   "id": "f679c9e7-e8ed-408d-bc24-4673bd0a8f24",
   "metadata": {},
   "source": [
    "I created a bar chart to understand the distribution of brand preferences in the Indian used car market. This helps to identify how the market leans towards local brands or global brands, which is needed for analyzing how these preferences relate to global car production trends."
   ]
  },
  {
   "cell_type": "code",
   "execution_count": 19,
   "id": "a5768faf-0cfc-4d54-8f4f-d0b1a12cb998",
   "metadata": {},
   "outputs": [
    {
     "data": {
      "image/png": "[encoded data removed]",
      "text/plain": [
       "<Figure size 800x500 with 1 Axes>"
      ]
     },
     "metadata": {},
     "output_type": "display_data"
    }
   ],
   "source": [
    "plt.figure(figsize=(8, 5))\n",
    "sns.countplot(data=used_car_df, x='BrandCategory', palette='viridis')\n",
    "plt.title('Local vs Global Brand Choices in Used Car Market')\n",
    "plt.xlabel('Brand Category')\n",
    "plt.ylabel('Count')\n",
    "plt.show()"
   ]
  },
  {
   "cell_type": "markdown",
   "id": "d605a622-509a-437c-8491-0dcd5f49744b",
   "metadata": {},
   "source": [
    "**Insights:**\n"
   ]
  },
  {
   "cell_type": "markdown",
   "id": "cdb07c82-603b-4535-b1fa-c216540d2427",
   "metadata": {},
   "source": [
    "- The count plot shows a clear dominance of global brands in the used car market in India, with over 5000 listings for global brands compared to around 3000 for local brands.\n",
    "- This indicates that global brands are more prevalent in the used car market."
   ]
  },
  {
   "cell_type": "markdown",
   "id": "5b8851aa-b427-4cdd-9a18-e61abd1adf10",
   "metadata": {},
   "source": [
    "#### 4.6.3 Market Share of Local vs Global Brands"
   ]
  },
  {
   "cell_type": "markdown",
   "id": "b47128f3-7df9-4280-8fd5-f34bdda69734",
   "metadata": {},
   "source": [
    "I created pie chart to visually represent the proportion of the used car market by each brand category. This helps for a clear comparison of how dominant local brands are in India versus global brands, which directly ties into understanding consumer preferences and their alignment with global production trends."
   ]
  },
  {
   "cell_type": "code",
   "execution_count": 20,
   "id": "a55fc9e8-8460-4519-bbe8-0bbb5a35c277",
   "metadata": {},
   "outputs": [
    {
     "data": {
      "image/png": "[encoded data removed]",
      "text/plain": [
       "<Figure size 600x600 with 1 Axes>"
      ]
     },
     "metadata": {},
     "output_type": "display_data"
    }
   ],
   "source": [
    "brand_counts = used_car_df['BrandCategory'].value_counts()\n",
    "plt.figure(figsize=(6, 6))\n",
    "brand_counts.plot(kind='pie', autopct='%1.1f%%', colors=['skyblue', 'orange'], startangle=90)\n",
    "plt.title('Market Share: Local vs Global Brands')\n",
    "plt.ylabel('')\n",
    "plt.show()"
   ]
  },
  {
   "cell_type": "markdown",
   "id": "66bc13ec-5c25-472e-beb8-9a899fd11af3",
   "metadata": {},
   "source": [
    "**Insights:**\n",
    "- The market share distribution shows that global brands has a larger portion of 61.7% of the used car listings, while local brands represent 38.3%.\n",
    "- This suggests that consumers tend to lean more towards global brands when purchasing used cars, possibly due to perceived quality or brand reputation."
   ]
  },
  {
   "cell_type": "markdown",
   "id": "e2f2c386-2b84-4110-be02-5e41eaa1a4bd",
   "metadata": {},
   "source": [
    "#### 4.6.4 Distribution of car age by brand category"
   ]
  },
  {
   "cell_type": "markdown",
   "id": "98d56b28-f9d7-46b6-85ec-6b0ff0be47e6",
   "metadata": {},
   "source": [
    "Violin plot was created to understand how the age of cars varies between local and global brands in the Indian used car market. This analysis helps explore whether local or global brands tend to have older or newer cars available, which is important for understanding consumer preferences and brand value retention over time."
   ]
  },
  {
   "cell_type": "code",
   "execution_count": 21,
   "id": "9c89c66e-e137-468a-a5cd-fc0cea0f9467",
   "metadata": {},
   "outputs": [
    {
     "data": {
      "image/png": "[encoded data removed]",
      "text/plain": [
       "<Figure size 800x500 with 1 Axes>"
      ]
     },
     "metadata": {},
     "output_type": "display_data"
    }
   ],
   "source": [
    "plt.figure(figsize=(8, 5))\n",
    "sns.violinplot(data=used_car_df, x='BrandCategory', y='Age', palette='muted')\n",
    "plt.title('Age Distribution for Local vs Global Brands')\n",
    "plt.xlabel('Brand Category')\n",
    "plt.ylabel('Age (years)')\n",
    "plt.show()"
   ]
  },
  {
   "cell_type": "markdown",
   "id": "08d45859-ab20-4b47-b43c-e802a2918e78",
   "metadata": {},
   "source": [
    "**Insights:**\n",
    "- Local brand cars have a wider range in age, including some very old cars, as shown by the maximum age around 38 years.\n",
    "- Global brand cars tend to be slightly newer on average, with most cars between 5 and 10 years old.\n",
    "- Both local and global brands have a similar spread of ages, but the global brands show slightly fewer cars on the older end of the spectrum."
   ]
  },
  {
   "cell_type": "markdown",
   "id": "b7931cbd-ae1f-47f4-8f3d-9b9161e74945",
   "metadata": {},
   "source": [
    "#### 4.6.5 Count of Car Brands"
   ]
  },
  {
   "cell_type": "markdown",
   "id": "8d720071-4817-4a4b-8fe6-6baeae74782f",
   "metadata": {},
   "source": [
    "The count of car brands was visualized to identify the most commonly listed car brands in the Indian used car market. This helps to understand the market dominance of specific brands and how they may influence consumer choices between local and global options, which is key to answering the research question about brand preferences."
   ]
  },
  {
   "cell_type": "code",
   "execution_count": 22,
   "id": "9a1b7bf8-fe42-4454-ba90-53722d9d14ff",
   "metadata": {},
   "outputs": [
    {
     "data": {
      "image/png": "[encoded data removed]",
      "text/plain": [
       "<Figure size 1000x600 with 1 Axes>"
      ]
     },
     "metadata": {},
     "output_type": "display_data"
    }
   ],
   "source": [
    "plt.figure(figsize = (10,6))\n",
    "brands = used_car_df['Brand'].value_counts().index\n",
    "sns.countplot(x=\"Brand\", data=used_car_df, order=brands, hue=\"Brand\")\n",
    "plt.title(\"Count of Different Car Brands\", fontsize=13)\n",
    "plt.xticks(rotation=90)\n",
    "plt.show()"
   ]
  },
  {
   "cell_type": "markdown",
   "id": "c2776dbb-ae83-4353-9322-ea6026b8072a",
   "metadata": {},
   "source": [
    "**Insights:**\n",
    "- Maruti Suzuki has the highest number of cars, with a total of 2720. This means Maruti Suzuki is very popular in the Indian used car market.\n",
    "- Maserati has the lowest number of cars, showing it is a rare and less common brand."
   ]
  },
  {
   "cell_type": "markdown",
   "id": "25e0274d-0caf-4402-8a50-d7f5339184d4",
   "metadata": {},
   "source": [
    "#### 4.6.6 Fuel Type"
   ]
  },
  {
   "cell_type": "markdown",
   "id": "42f95d80-78db-45cf-94f2-50c9fd2c6c55",
   "metadata": {},
   "source": [
    "The pie chart was created to show the distribution of car fuel types in the used car market. This helps to understand the preferences for different fuel types, which can be important for analyzing how fuel preferences might differ between local and global brands, and how they may influence consumer decisions in the market."
   ]
  },
  {
   "cell_type": "code",
   "execution_count": 23,
   "id": "1fe7868f-7ae3-4a68-9810-30bb92d884db",
   "metadata": {},
   "outputs": [
    {
     "data": {
      "image/png": "[encoded data removed]",
      "text/plain": [
       "<Figure size 800x800 with 1 Axes>"
      ]
     },
     "metadata": {},
     "output_type": "display_data"
    }
   ],
   "source": [
    "# Pie chart for Fuel Type distribution\n",
    "fuel_type_counts = used_car_df['FuelType'].value_counts()\n",
    "plt.figure(figsize=(8, 8))\n",
    "fuel_type_counts.plot(kind='pie', autopct='%1.1f%%', startangle=90)\n",
    "plt.title('Distribution of Fuel Types in Used Cars')\n",
    "plt.ylabel('')\n",
    "plt.show()"
   ]
  },
  {
   "cell_type": "markdown",
   "id": "7b269da4-c1d2-44b9-8fb2-130d723a944c",
   "metadata": {},
   "source": [
    "**Insights:**\n",
    "- Diesel cars make up 40.1% of the market, indicating a significant preference for diesel vehicles in the used car market.\n",
    "- Petrol cars account for 39.9%, showing a nearly equal preference to diesel cars, with a slight difference.\n",
    "- Hybrid cars make up 20%, reflecting a growing interest in alternative fuel options, but still a smaller segment compared to petrol and diesel.\n",
    "- Diesel and petrol cars dominate the market, with almost equal shares, while hybrid cars still represent a niche but growing preference."
   ]
  },
  {
   "cell_type": "markdown",
   "id": "f0a6f185-28df-437f-ab75-d765f18cdfab",
   "metadata": {},
   "source": [
    "#### 4.6.7 Distribution of car transmission types"
   ]
  },
  {
   "cell_type": "markdown",
   "id": "65562a54-9f58-4124-b831-6585feda938d",
   "metadata": {},
   "source": [
    "The bar chart was created to analyze the preference for manual vs. automatic transmissions in the used car market. It provides insights into consumer preferences and how transmission type might influence the choice of brand in the Indian market."
   ]
  },
  {
   "cell_type": "code",
   "execution_count": 24,
   "id": "70816022-10a2-4bca-984f-a43f4f417f6c",
   "metadata": {},
   "outputs": [
    {
     "data": {
      "image/png": "[encoded data removed]",
      "text/plain": [
       "<Figure size 640x480 with 1 Axes>"
      ]
     },
     "metadata": {},
     "output_type": "display_data"
    }
   ],
   "source": [
    "transmission_count = used_car_df['Transmission'].value_counts()\n",
    "bars = transmission_count.plot(kind='bar', color=['#1f77b4', '#ff7f0e'])\n",
    "plt.title('Distribution of Car Transmission Types', fontsize=13)\n",
    "plt.xlabel('Transmission Type')\n",
    "plt.ylabel('Number of Cars')\n",
    "bars.bar_label(bars.containers[0], fontsize=10)\n",
    "plt.show()"
   ]
  },
  {
   "cell_type": "markdown",
   "id": "05527d1f-6ebe-4f18-bb0e-ad6e41fa94b4",
   "metadata": {},
   "source": [
    "**Insights:**\n",
    "- There are 4,800 manual cars. Manual transmissions are often chosen for their lower cost and better fuel efficiency, though they are less common now.\n",
    "- With 4,782 automatic cars, automatic transmissions are preferred for convenience, especially in city driving.\n",
    "- The counts for both types are nearly equal, indicating that both manual and automatic transmissions are popular in the used car market. This suggests a balanced demand for both transmission types."
   ]
  },
  {
   "cell_type": "markdown",
   "id": "52bf19f4-4f51-434f-a8f3-3be5dc5c3058",
   "metadata": {},
   "source": [
    "## 5 Dataset 2: Web Scraped Dataset (car production by country)"
   ]
  },
  {
   "cell_type": "markdown",
   "id": "12feb1ff-b8f2-4dbc-ad4f-501883ab71b2",
   "metadata": {},
   "source": [
    "### 5.1 Import Libraries"
   ]
  },
  {
   "cell_type": "markdown",
   "id": "ff6bde58-0d70-4236-bb1f-b5f26085e649",
   "metadata": {},
   "source": [
    "I have imported the requests and BeautifulSoup libraries to fetch and parse the HTML content from web pages for web scraping."
   ]
  },
  {
   "cell_type": "code",
   "execution_count": 25,
   "id": "3926d0df-b471-4b71-a845-7e9c9a98233a",
   "metadata": {},
   "outputs": [],
   "source": [
    "import requests\n",
    "from bs4 import BeautifulSoup"
   ]
  },
  {
   "cell_type": "markdown",
   "id": "ff25cddb-bafc-43bf-8080-4b3b73c9c0d6",
   "metadata": {},
   "source": [
    "### 5.2 Web Scraping Dataset"
   ]
  },
  {
   "cell_type": "markdown",
   "id": "9e4882a2-a03c-47c9-a199-5ceb602d7c57",
   "metadata": {},
   "source": [
    "I have used the requests.get method to fetch the HTML content of the Wikipedia page containing the list of countries by vehicle exports."
   ]
  },
  {
   "cell_type": "code",
   "execution_count": 26,
   "id": "e560c73f-e8f9-4993-a095-9482f5f8e0f0",
   "metadata": {},
   "outputs": [],
   "source": [
    "url = 'https://www.datapandas.org/ranking/car-production-by-country'\n",
    "response = requests.get(url)"
   ]
  },
  {
   "cell_type": "markdown",
   "id": "428f7df0-7047-4418-8bd1-dd0c291e11a5",
   "metadata": {},
   "source": [
    "I have checked if the webpage was successfully fetched by verifying the response status code."
   ]
  },
  {
   "cell_type": "code",
   "execution_count": 27,
   "id": "5e7471fe-0037-4798-a588-f65ea5fbe5b1",
   "metadata": {},
   "outputs": [
    {
     "name": "stdout",
     "output_type": "stream",
     "text": [
      "Successfully fetched the webpage.\n"
     ]
    }
   ],
   "source": [
    "# To check if the request was successful\n",
    "if response.status_code == 200:\n",
    "    print(\"Successfully fetched the webpage.\")\n",
    "else:\n",
    "    print(\"Failed to fetch the webpage.\")\n",
    "    exit()"
   ]
  },
  {
   "cell_type": "markdown",
   "id": "51b03181-59b5-4468-a58b-7f4900c5f0bd",
   "metadata": {},
   "source": [
    "I parsed the webpage content using BeautifulSoup to extract the data."
   ]
  },
  {
   "cell_type": "code",
   "execution_count": 28,
   "id": "30a1fe64-a1b7-4cde-9e75-8dcc215553ac",
   "metadata": {},
   "outputs": [],
   "source": [
    "# Parse the page content with BeautifulSoup\n",
    "soup = BeautifulSoup(response.text, 'html.parser')"
   ]
  },
  {
   "cell_type": "markdown",
   "id": "99af39f7-322a-41fd-aa50-53768b2f314f",
   "metadata": {},
   "source": [
    "I found the table and its respective id containing the car production data on the webpage using BeautifulSoup."
   ]
  },
  {
   "cell_type": "code",
   "execution_count": 29,
   "id": "a00d4c46-5fa3-4d9e-950b-7354be6f819e",
   "metadata": {},
   "outputs": [],
   "source": [
    "# Find the table on the page\n",
    "table = soup.find('table', {'id': 'full_data_table'})"
   ]
  },
  {
   "cell_type": "markdown",
   "id": "23c4ce84-0426-4814-af82-8813d1561397",
   "metadata": {},
   "source": [
    "I extracted the headers from the table to get the column names using BeautifulSoup."
   ]
  },
  {
   "cell_type": "code",
   "execution_count": 30,
   "id": "11ebfdd1-173a-4d45-97b4-4608ab01d4f6",
   "metadata": {},
   "outputs": [],
   "source": [
    "# Extract the table rows\n",
    "headers = []\n",
    "for th in table.find_all('th'):\n",
    "    headers.append(th.text.strip())"
   ]
  },
  {
   "cell_type": "markdown",
   "id": "a6e0232b-9e4c-4e58-b811-12b36b7fe053",
   "metadata": {},
   "source": [
    "I extracted the table rows excluding the header to gather the data from each row using BeautifulSoup."
   ]
  },
  {
   "cell_type": "code",
   "execution_count": 31,
   "id": "ecb1ab0e-933d-4541-9e39-9a14495748f3",
   "metadata": {},
   "outputs": [],
   "source": [
    "# Extract the table rows\n",
    "rows = []\n",
    "for tr in table.find_all('tr')[1:]:  # Skip the header row\n",
    "    cols = tr.find_all('td')\n",
    "    row = [col.text.strip() for col in cols]\n",
    "    rows.append(row)"
   ]
  },
  {
   "cell_type": "markdown",
   "id": "3634643a-c4f1-4548-98d9-addc8ef37c31",
   "metadata": {},
   "source": [
    "I converted the extracted table into a DataFrame and displayed the first few rows using df.head()."
   ]
  },
  {
   "cell_type": "code",
   "execution_count": 32,
   "id": "19b041b0-1b75-4d85-b9df-ee59f46c9d67",
   "metadata": {},
   "outputs": [
    {
     "data": {
      "text/html": [
       "<div>\n",
       "<style scoped>\n",
       "    .dataframe tbody tr th:only-of-type {\n",
       "        vertical-align: middle;\n",
       "    }\n",
       "\n",
       "    .dataframe tbody tr th {\n",
       "        vertical-align: top;\n",
       "    }\n",
       "\n",
       "    .dataframe thead th {\n",
       "        text-align: right;\n",
       "    }\n",
       "</style>\n",
       "<table border=\"1\" class=\"dataframe\">\n",
       "  <thead>\n",
       "    <tr style=\"text-align: right;\">\n",
       "      <th></th>\n",
       "      <th>Region ↕</th>\n",
       "      <th>Car Production ↕</th>\n",
       "    </tr>\n",
       "  </thead>\n",
       "  <tbody>\n",
       "    <tr>\n",
       "      <th>0</th>\n",
       "      <td>Argentina</td>\n",
       "      <td>536.9K</td>\n",
       "    </tr>\n",
       "    <tr>\n",
       "      <th>1</th>\n",
       "      <td>Austria</td>\n",
       "      <td>107.5K</td>\n",
       "    </tr>\n",
       "    <tr>\n",
       "      <th>2</th>\n",
       "      <td>Belgium</td>\n",
       "      <td>276.6K</td>\n",
       "    </tr>\n",
       "    <tr>\n",
       "      <th>3</th>\n",
       "      <td>Brazil</td>\n",
       "      <td>2.4M</td>\n",
       "    </tr>\n",
       "    <tr>\n",
       "      <th>4</th>\n",
       "      <td>Canada</td>\n",
       "      <td>1.2M</td>\n",
       "    </tr>\n",
       "  </tbody>\n",
       "</table>\n",
       "</div>"
      ],
      "text/plain": [
       "    Region ↕ Car Production ↕\n",
       "0  Argentina           536.9K\n",
       "1    Austria           107.5K\n",
       "2    Belgium           276.6K\n",
       "3     Brazil             2.4M\n",
       "4     Canada             1.2M"
      ]
     },
     "execution_count": 32,
     "metadata": {},
     "output_type": "execute_result"
    }
   ],
   "source": [
    "# Convert the table into a DataFrame\n",
    "df = pd.DataFrame(rows, columns=headers)\n",
    "df.head()"
   ]
  },
  {
   "cell_type": "markdown",
   "id": "330322d4-b1af-473d-90a3-4825d975670c",
   "metadata": {},
   "source": [
    "### 5.3 Relevancy of data and justified use of data source"
   ]
  },
  {
   "cell_type": "markdown",
   "id": "a04be939-e73f-4458-832e-a11f7544ba68",
   "metadata": {},
   "source": [
    "#### 5.3.1 Origin of Dataset\n",
    "The dataset is a web-scraped table of global car production data, which includes production numbers for different countries. This dataset was gathered from open sources that track global car manufacturing trends and production statistics."
   ]
  },
  {
   "cell_type": "markdown",
   "id": "ae184507-02a1-4e62-ab96-e6bc051defd5",
   "metadata": {},
   "source": [
    "#### 5.3.2 Why this data source is appropriate for the research question posed:\n",
    "The global car production dataset provides insights into production trends in various countries, allowing for a comparison between Indian consumer preferences and global manufacturing patterns."
   ]
  },
  {
   "cell_type": "markdown",
   "id": "d94b51c4-49d3-40f6-98c7-81b96ffe90a0",
   "metadata": {},
   "source": [
    "#### 5.3.3 Clearly identifiable case for working with this specific type of data\n",
    "The global car production dataset helps compare production trends across countries, offering context to Indian preferences."
   ]
  },
  {
   "cell_type": "markdown",
   "id": "fe307838-d2dc-4138-8848-e64fe63087a8",
   "metadata": {},
   "source": [
    "#### 5.3.4 Format of data is suitable for analysis\n",
    "Even though the table of the car production by country is web scraped from a website, it is stored as a pandas dataframe to continue with the analysis. I have also exported the dataframe to a csv. If the web scraping method takes long time or is unable to load the table the exported csv file can be used for the analysis."
   ]
  },
  {
   "cell_type": "markdown",
   "id": "c3621fe5-0922-465c-988d-a1865330a149",
   "metadata": {},
   "source": [
    "I have used the to_csv function to convert the dataframe to a csv file. I have did this to make sure my analysis continues even if my web scraping part is not working on other laptops."
   ]
  },
  {
   "cell_type": "code",
   "execution_count": 33,
   "id": "e5ff99a0-d8e1-4832-87bf-118a7912bebf",
   "metadata": {},
   "outputs": [],
   "source": [
    "# Save the DataFrame to a CSV file\n",
    "df.to_csv('car_production_by_country.csv', index=False)"
   ]
  },
  {
   "cell_type": "markdown",
   "id": "e96eee9b-66ea-496a-953f-edf2fddc399c",
   "metadata": {},
   "source": [
    "Uncomment this line to load the dataset if the web scrapping part is not working."
   ]
  },
  {
   "cell_type": "code",
   "execution_count": 34,
   "id": "ba6e663f-d2ed-4596-864f-8b86c97afe53",
   "metadata": {},
   "outputs": [],
   "source": [
    "# Load the dataset\n",
    "# df = pd.read_csv(\"car_production_by_country.csv\")"
   ]
  },
  {
   "cell_type": "markdown",
   "id": "6c60b086-07d8-4c08-b50f-7e9e9987024b",
   "metadata": {},
   "source": [
    "I used df.info to display information about the DataFrame, showing that it contains 36 rows and 2 columns, both of which are of object data type."
   ]
  },
  {
   "cell_type": "code",
   "execution_count": 35,
   "id": "86dae057-74d2-48e1-a1b1-156111660ecc",
   "metadata": {},
   "outputs": [
    {
     "name": "stdout",
     "output_type": "stream",
     "text": [
      "<class 'pandas.core.frame.DataFrame'>\n",
      "RangeIndex: 36 entries, 0 to 35\n",
      "Data columns (total 2 columns):\n",
      " #   Column            Non-Null Count  Dtype \n",
      "---  ------            --------------  ----- \n",
      " 0   Region ↕          36 non-null     object\n",
      " 1   Car Production ↕  36 non-null     object\n",
      "dtypes: object(2)\n",
      "memory usage: 708.0+ bytes\n"
     ]
    }
   ],
   "source": [
    "df.info()"
   ]
  },
  {
   "cell_type": "markdown",
   "id": "d9e48871-bc65-44b9-9fa5-8089f630557d",
   "metadata": {},
   "source": [
    "I have checked if there is any null values present in the dataset using the isnull function."
   ]
  },
  {
   "cell_type": "code",
   "execution_count": 36,
   "id": "93fdc3b5-ea5f-40c7-8395-2959d72920f2",
   "metadata": {},
   "outputs": [
    {
     "data": {
      "text/plain": [
       "Region ↕            0\n",
       "Car Production ↕    0\n",
       "dtype: int64"
      ]
     },
     "execution_count": 36,
     "metadata": {},
     "output_type": "execute_result"
    }
   ],
   "source": [
    "df.isnull().sum()"
   ]
  },
  {
   "cell_type": "markdown",
   "id": "b1ab5f16-f1d9-4af8-9c82-51c1c1d90555",
   "metadata": {},
   "source": [
    "### 5.4 Data Cleaning"
   ]
  },
  {
   "cell_type": "markdown",
   "id": "dc7d8a66-89f8-44da-b7d8-5be4468f9f19",
   "metadata": {},
   "source": [
    "The thousands and millions are represented as K and M in the car production column. This should be converted to numeric for to continue with the analysis. I have created a function to execute the process of converting it to numeric."
   ]
  },
  {
   "cell_type": "code",
   "execution_count": 37,
   "id": "97315b8c-f084-415a-81e4-d690da548918",
   "metadata": {},
   "outputs": [],
   "source": [
    "# Function to convert car production values\n",
    "def convert_values(value):\n",
    "    if 'K' in value:\n",
    "        return int(float(value.replace('K', '').strip()) * 1000)\n",
    "    elif 'M' in value:\n",
    "        return int(float(value.replace('M', '').strip()) * 1000000)\n",
    "    else:\n",
    "        return float(value.strip())\n",
    "\n",
    "df['Car Production ↕'] = df['Car Production ↕'].apply(convert_values)"
   ]
  },
  {
   "cell_type": "code",
   "execution_count": 38,
   "id": "2fa036d3-118f-4ba1-87fe-b64edbee79c4",
   "metadata": {},
   "outputs": [
    {
     "data": {
      "text/html": [
       "<div>\n",
       "<style scoped>\n",
       "    .dataframe tbody tr th:only-of-type {\n",
       "        vertical-align: middle;\n",
       "    }\n",
       "\n",
       "    .dataframe tbody tr th {\n",
       "        vertical-align: top;\n",
       "    }\n",
       "\n",
       "    .dataframe thead th {\n",
       "        text-align: right;\n",
       "    }\n",
       "</style>\n",
       "<table border=\"1\" class=\"dataframe\">\n",
       "  <thead>\n",
       "    <tr style=\"text-align: right;\">\n",
       "      <th></th>\n",
       "      <th>Region ↕</th>\n",
       "      <th>Car Production ↕</th>\n",
       "    </tr>\n",
       "  </thead>\n",
       "  <tbody>\n",
       "    <tr>\n",
       "      <th>0</th>\n",
       "      <td>Argentina</td>\n",
       "      <td>536900</td>\n",
       "    </tr>\n",
       "    <tr>\n",
       "      <th>1</th>\n",
       "      <td>Austria</td>\n",
       "      <td>107500</td>\n",
       "    </tr>\n",
       "    <tr>\n",
       "      <th>2</th>\n",
       "      <td>Belgium</td>\n",
       "      <td>276600</td>\n",
       "    </tr>\n",
       "    <tr>\n",
       "      <th>3</th>\n",
       "      <td>Brazil</td>\n",
       "      <td>2400000</td>\n",
       "    </tr>\n",
       "    <tr>\n",
       "      <th>4</th>\n",
       "      <td>Canada</td>\n",
       "      <td>1200000</td>\n",
       "    </tr>\n",
       "  </tbody>\n",
       "</table>\n",
       "</div>"
      ],
      "text/plain": [
       "    Region ↕  Car Production ↕\n",
       "0  Argentina            536900\n",
       "1    Austria            107500\n",
       "2    Belgium            276600\n",
       "3     Brazil           2400000\n",
       "4     Canada           1200000"
      ]
     },
     "execution_count": 38,
     "metadata": {},
     "output_type": "execute_result"
    }
   ],
   "source": [
    "df.head()"
   ]
  },
  {
   "cell_type": "markdown",
   "id": "529bcbd8-f8c8-4fb7-9614-20ba96a7f46c",
   "metadata": {},
   "source": [
    "Once, all the values have been converted to numeric, I have sorted the dataframe in desecending order and reset the index to find out the top most car production country."
   ]
  },
  {
   "cell_type": "code",
   "execution_count": 39,
   "id": "0e9ec58b-1c3d-47c5-a403-8370ac623e48",
   "metadata": {},
   "outputs": [
    {
     "data": {
      "text/html": [
       "<div>\n",
       "<style scoped>\n",
       "    .dataframe tbody tr th:only-of-type {\n",
       "        vertical-align: middle;\n",
       "    }\n",
       "\n",
       "    .dataframe tbody tr th {\n",
       "        vertical-align: top;\n",
       "    }\n",
       "\n",
       "    .dataframe thead th {\n",
       "        text-align: right;\n",
       "    }\n",
       "</style>\n",
       "<table border=\"1\" class=\"dataframe\">\n",
       "  <thead>\n",
       "    <tr style=\"text-align: right;\">\n",
       "      <th></th>\n",
       "      <th>Region ↕</th>\n",
       "      <th>Car Production ↕</th>\n",
       "    </tr>\n",
       "  </thead>\n",
       "  <tbody>\n",
       "    <tr>\n",
       "      <th>0</th>\n",
       "      <td>China</td>\n",
       "      <td>27000000</td>\n",
       "    </tr>\n",
       "    <tr>\n",
       "      <th>1</th>\n",
       "      <td>United States</td>\n",
       "      <td>10100000</td>\n",
       "    </tr>\n",
       "    <tr>\n",
       "      <th>2</th>\n",
       "      <td>Japan</td>\n",
       "      <td>7800000</td>\n",
       "    </tr>\n",
       "    <tr>\n",
       "      <th>3</th>\n",
       "      <td>India</td>\n",
       "      <td>5500000</td>\n",
       "    </tr>\n",
       "    <tr>\n",
       "      <th>4</th>\n",
       "      <td>South Korea</td>\n",
       "      <td>3800000</td>\n",
       "    </tr>\n",
       "  </tbody>\n",
       "</table>\n",
       "</div>"
      ],
      "text/plain": [
       "        Region ↕  Car Production ↕\n",
       "0          China          27000000\n",
       "1  United States          10100000\n",
       "2          Japan           7800000\n",
       "3          India           5500000\n",
       "4    South Korea           3800000"
      ]
     },
     "execution_count": 39,
     "metadata": {},
     "output_type": "execute_result"
    }
   ],
   "source": [
    "df = df.sort_values(by='Car Production ↕', ascending=False)\n",
    "df = df.reset_index(drop=True)\n",
    "df.head()"
   ]
  },
  {
   "cell_type": "markdown",
   "id": "d1a74c63-e19e-49ab-b1dd-dd268c13ac4d",
   "metadata": {},
   "source": [
    "I have used the info function to ensure the car production data type have changed correctly."
   ]
  },
  {
   "cell_type": "code",
   "execution_count": 40,
   "id": "17e24158-1a2a-4686-a3ff-917d70c946e1",
   "metadata": {},
   "outputs": [
    {
     "name": "stdout",
     "output_type": "stream",
     "text": [
      "<class 'pandas.core.frame.DataFrame'>\n",
      "RangeIndex: 36 entries, 0 to 35\n",
      "Data columns (total 2 columns):\n",
      " #   Column            Non-Null Count  Dtype \n",
      "---  ------            --------------  ----- \n",
      " 0   Region ↕          36 non-null     object\n",
      " 1   Car Production ↕  36 non-null     int64 \n",
      "dtypes: int64(1), object(1)\n",
      "memory usage: 708.0+ bytes\n"
     ]
    }
   ],
   "source": [
    "df.info()"
   ]
  },
  {
   "cell_type": "markdown",
   "id": "3a5e215d-f857-468b-8818-fd4aa0fe6a54",
   "metadata": {},
   "source": [
    "### 5.5 Data Exploration and Visualization"
   ]
  },
  {
   "cell_type": "markdown",
   "id": "ad64b451-04aa-4060-b052-b2c5b48aeb2a",
   "metadata": {},
   "source": [
    "#### 5.5.1 Distribution of Car Production"
   ]
  },
  {
   "cell_type": "markdown",
   "id": "13c10b38-b4de-4418-8b86-a46af5446070",
   "metadata": {},
   "source": [
    "This histogram shows the distribution of car production values across all regions. It helps us understand the spread of production levels and identify any skewness in the data."
   ]
  },
  {
   "cell_type": "code",
   "execution_count": 41,
   "id": "fec2b581-de86-41d7-9d1c-0b06b4468267",
   "metadata": {},
   "outputs": [
    {
     "data": {
      "image/png": "[encoded data removed]",
      "text/plain": [
       "<Figure size 1000x600 with 1 Axes>"
      ]
     },
     "metadata": {},
     "output_type": "display_data"
    }
   ],
   "source": [
    "# Plotting the distribution of car production\n",
    "plt.figure(figsize=(10, 6))\n",
    "sns.histplot(df['Car Production ↕'], kde=True, bins=20)\n",
    "plt.title('Distribution of Car Production')\n",
    "plt.xlabel('Car Production (in units)')\n",
    "plt.ylabel('Frequency')\n",
    "plt.show()"
   ]
  },
  {
   "cell_type": "markdown",
   "id": "e530bf99-30fc-4f32-b693-b8f8ea35aa2f",
   "metadata": {},
   "source": [
    "**Insights:**\n",
    "- The histogram shows a right-skewed distribution, with most countries having lower car production values.\n",
    "- Most regions produce fewer cars, with a large portion having production values below 1.5 million.\n",
    "- The distribution exhibits exponential decay, where fewer regions have higher production levels."
   ]
  },
  {
   "cell_type": "markdown",
   "id": "b5b87635-2d7c-4d38-8da6-61fb3b48223f",
   "metadata": {},
   "source": [
    "#### 5.5.2 Car Production by Region"
   ]
  },
  {
   "cell_type": "markdown",
   "id": "8744c02f-48cc-4170-8d40-c34ef4d54633",
   "metadata": {},
   "source": [
    "Bar plot showing car production values across regions. This visualization helps identify the highest and lowest car production countries across the region."
   ]
  },
  {
   "cell_type": "code",
   "execution_count": 42,
   "id": "48967434-a9a3-49e3-863a-5dded450ad68",
   "metadata": {},
   "outputs": [
    {
     "data": {
      "image/png": "[encoded data removed]",
      "text/plain": [
       "<Figure size 1200x600 with 1 Axes>"
      ]
     },
     "metadata": {},
     "output_type": "display_data"
    }
   ],
   "source": [
    "plt.figure(figsize=(12, 6))\n",
    "sns.barplot(x='Region ↕', y='Car Production ↕', data=df, palette='husl')\n",
    "plt.title('Car Production by Region')\n",
    "plt.xlabel('Region')\n",
    "plt.ylabel('Car Production')\n",
    "plt.xticks(rotation=90)  # Rotate x-axis labels for better readability\n",
    "plt.show()"
   ]
  },
  {
   "cell_type": "markdown",
   "id": "dcdab428-f336-4756-ab05-3824e44afd03",
   "metadata": {},
   "source": [
    "**Insights:**\n",
    "- China, United States, and Japan are the top car producers.\n",
    "- Ukraine is the lowest car producers among all the countries.\n",
    "- India, South Korea, Germany, and Mexico are strong moderate producers, making 2-4 million cars.\n",
    "- Many small countries produce fewer than 1 million cars."
   ]
  },
  {
   "cell_type": "markdown",
   "id": "ca2f42a3-16b4-4939-a5fe-0318a5b24905",
   "metadata": {},
   "source": [
    "## 6 Combined Dataset for Further Exploration"
   ]
  },
  {
   "cell_type": "markdown",
   "id": "d32e6572-672d-4019-8cec-82896f655fd2",
   "metadata": {},
   "source": [
    "### 6.1 Combining dataset based on Brand & Country"
   ]
  },
  {
   "cell_type": "markdown",
   "id": "bf0b0c4a-3bd3-4f0e-8ec8-c88336c8a192",
   "metadata": {},
   "source": [
    "I need to combine the dataset to explore further and also to get an answer for my research question. I am combining the dataset based on the brand and country. I am mapping it to the respective values. Firstly, I have find the unique values in the brand columns."
   ]
  },
  {
   "cell_type": "code",
   "execution_count": 43,
   "id": "c3af563b-fa40-4033-aec3-73c1809e191d",
   "metadata": {},
   "outputs": [
    {
     "data": {
      "text/plain": [
       "array(['Honda', 'Toyota', 'Volkswagen', 'Maruti Suzuki', 'BMW', 'Ford',\n",
       "       'Kia', 'Mercedes-Benz', 'Hyundai', 'Audi', 'Renault', 'MG',\n",
       "       'Volvo', 'Skoda', 'Tata', 'Mahindra', 'Mini', 'Land Rover', 'Jeep',\n",
       "       'Chevrolet', 'Jaguar', 'Fiat', 'Aston Martin', 'Porsche', 'Nissan',\n",
       "       'Force', 'Mitsubishi', 'Lexus', 'Isuzu', 'Datsun', 'Ambassador',\n",
       "       'Rolls-Royce', 'ICML', 'Bajaj', 'Opel', 'Ashok', 'Bentley',\n",
       "       'Ssangyong', 'Maserati'], dtype=object)"
      ]
     },
     "execution_count": 43,
     "metadata": {},
     "output_type": "execute_result"
    }
   ],
   "source": [
    "unique_brands = used_car_df['Brand'].unique()\n",
    "unique_brands"
   ]
  },
  {
   "cell_type": "markdown",
   "id": "89c93797-0ea8-4628-981c-1ba95e6368c1",
   "metadata": {},
   "source": [
    "Next, I have created a dictionary to manually map the brand with the countries."
   ]
  },
  {
   "cell_type": "code",
   "execution_count": 44,
   "id": "e7111c5c-a11b-4eb9-9eed-9256d035cf8b",
   "metadata": {},
   "outputs": [],
   "source": [
    "brand_to_country = {\n",
    "    'Honda': 'Japan','Toyota': 'Japan','Volkswagen': 'Germany','Maruti Suzuki': 'India','BMW': 'Germany',\n",
    "    'Ford': 'USA','Kia': 'South Korea','Mercedes-Benz': 'Germany', 'Hyundai': 'South Korea','Audi': 'Germany',\n",
    "    'Renault': 'France','MG': 'China','Volvo': 'Sweden','Skoda': 'Czech Republic','Tata': 'India','Mahindra': 'India',\n",
    "    'Mini': 'Germany','Land Rover': 'UK','Jeep': 'USA','Chevrolet': 'USA','Jaguar': 'UK','Fiat': 'Italy',\n",
    "    'Aston Martin': 'UK','Porsche': 'Germany', 'Nissan': 'Japan','Force': 'India','Mitsubishi': 'Japan',\n",
    "    'Lexus': 'Japan','Isuzu': 'Japan','Datsun': 'Japan','Ambassador': 'India','Rolls-Royce': 'UK', 'ICML': 'India',\n",
    "    'Bajaj': 'India','Opel': 'Germany','Ashok': 'India','Bentley': 'UK','Ssangyong': 'South Korea','Maserati': 'Italy'\n",
    "}"
   ]
  },
  {
   "cell_type": "markdown",
   "id": "3778a37a-e9ba-459b-b391-c84a64708b55",
   "metadata": {},
   "source": [
    "I have used the map function to map the country based on the brand column."
   ]
  },
  {
   "cell_type": "code",
   "execution_count": 45,
   "id": "d260ac76-4bd9-4165-84b5-acccc2dd5ed6",
   "metadata": {},
   "outputs": [
    {
     "data": {
      "text/html": [
       "<div>\n",
       "<style scoped>\n",
       "    .dataframe tbody tr th:only-of-type {\n",
       "        vertical-align: middle;\n",
       "    }\n",
       "\n",
       "    .dataframe tbody tr th {\n",
       "        vertical-align: top;\n",
       "    }\n",
       "\n",
       "    .dataframe thead th {\n",
       "        text-align: right;\n",
       "    }\n",
       "</style>\n",
       "<table border=\"1\" class=\"dataframe\">\n",
       "  <thead>\n",
       "    <tr style=\"text-align: right;\">\n",
       "      <th></th>\n",
       "      <th>Brand</th>\n",
       "      <th>model</th>\n",
       "      <th>Year</th>\n",
       "      <th>Age</th>\n",
       "      <th>kmDriven</th>\n",
       "      <th>Transmission</th>\n",
       "      <th>Owner</th>\n",
       "      <th>FuelType</th>\n",
       "      <th>AskPrice</th>\n",
       "      <th>BrandCategory</th>\n",
       "      <th>Region ↕</th>\n",
       "    </tr>\n",
       "  </thead>\n",
       "  <tbody>\n",
       "    <tr>\n",
       "      <th>0</th>\n",
       "      <td>Honda</td>\n",
       "      <td>City</td>\n",
       "      <td>2001</td>\n",
       "      <td>23</td>\n",
       "      <td>98000.0</td>\n",
       "      <td>Manual</td>\n",
       "      <td>second</td>\n",
       "      <td>Petrol</td>\n",
       "      <td>195000.0</td>\n",
       "      <td>Global</td>\n",
       "      <td>Japan</td>\n",
       "    </tr>\n",
       "    <tr>\n",
       "      <th>1</th>\n",
       "      <td>Toyota</td>\n",
       "      <td>Innova</td>\n",
       "      <td>2009</td>\n",
       "      <td>15</td>\n",
       "      <td>190000.0</td>\n",
       "      <td>Manual</td>\n",
       "      <td>second</td>\n",
       "      <td>Diesel</td>\n",
       "      <td>375000.0</td>\n",
       "      <td>Global</td>\n",
       "      <td>Japan</td>\n",
       "    </tr>\n",
       "    <tr>\n",
       "      <th>2</th>\n",
       "      <td>Volkswagen</td>\n",
       "      <td>VentoTest</td>\n",
       "      <td>2010</td>\n",
       "      <td>14</td>\n",
       "      <td>77246.0</td>\n",
       "      <td>Manual</td>\n",
       "      <td>first</td>\n",
       "      <td>Diesel</td>\n",
       "      <td>184999.0</td>\n",
       "      <td>Global</td>\n",
       "      <td>Germany</td>\n",
       "    </tr>\n",
       "    <tr>\n",
       "      <th>3</th>\n",
       "      <td>Maruti Suzuki</td>\n",
       "      <td>Swift</td>\n",
       "      <td>2017</td>\n",
       "      <td>7</td>\n",
       "      <td>83500.0</td>\n",
       "      <td>Manual</td>\n",
       "      <td>second</td>\n",
       "      <td>Diesel</td>\n",
       "      <td>565000.0</td>\n",
       "      <td>Local</td>\n",
       "      <td>India</td>\n",
       "    </tr>\n",
       "    <tr>\n",
       "      <th>4</th>\n",
       "      <td>Maruti Suzuki</td>\n",
       "      <td>Baleno</td>\n",
       "      <td>2019</td>\n",
       "      <td>5</td>\n",
       "      <td>45000.0</td>\n",
       "      <td>Automatic</td>\n",
       "      <td>first</td>\n",
       "      <td>Petrol</td>\n",
       "      <td>685000.0</td>\n",
       "      <td>Local</td>\n",
       "      <td>India</td>\n",
       "    </tr>\n",
       "  </tbody>\n",
       "</table>\n",
       "</div>"
      ],
      "text/plain": [
       "           Brand      model  Year  Age  kmDriven Transmission   Owner  \\\n",
       "0          Honda       City  2001   23   98000.0       Manual  second   \n",
       "1         Toyota     Innova  2009   15  190000.0       Manual  second   \n",
       "2     Volkswagen  VentoTest  2010   14   77246.0       Manual   first   \n",
       "3  Maruti Suzuki      Swift  2017    7   83500.0       Manual  second   \n",
       "4  Maruti Suzuki     Baleno  2019    5   45000.0    Automatic   first   \n",
       "\n",
       "  FuelType  AskPrice BrandCategory Region ↕  \n",
       "0   Petrol  195000.0        Global    Japan  \n",
       "1   Diesel  375000.0        Global    Japan  \n",
       "2   Diesel  184999.0        Global  Germany  \n",
       "3   Diesel  565000.0         Local    India  \n",
       "4   Petrol  685000.0         Local    India  "
      ]
     },
     "execution_count": 45,
     "metadata": {},
     "output_type": "execute_result"
    }
   ],
   "source": [
    "# Mapping the country and the brand\n",
    "used_car_df['Region ↕'] = used_car_df['Brand'].map(brand_to_country)\n",
    "used_car_df.head()"
   ]
  },
  {
   "cell_type": "markdown",
   "id": "07c1d4a1-a065-44a9-9f6a-eb27defc4209",
   "metadata": {},
   "source": [
    "I need to create the car production column as well. So, I have created a map function of region to car production and map the value based on the region column. At the end, I need to add the region and car production columns and each region will have its respective car production value mapped."
   ]
  },
  {
   "cell_type": "code",
   "execution_count": 46,
   "id": "f95ecc83-33bb-4923-b803-f4f68ef569fa",
   "metadata": {},
   "outputs": [],
   "source": [
    "# Mapping the region and car production\n",
    "Region_to_car_production = dict(zip(df['Region ↕'], df['Car Production ↕']))\n",
    "used_car_df['Car Production ↕'] = used_car_df['Region ↕'].map(Region_to_car_production)"
   ]
  },
  {
   "cell_type": "code",
   "execution_count": 47,
   "id": "03f66349-9833-4834-bc23-c0047f7e9ef4",
   "metadata": {},
   "outputs": [
    {
     "data": {
      "text/html": [
       "<div>\n",
       "<style scoped>\n",
       "    .dataframe tbody tr th:only-of-type {\n",
       "        vertical-align: middle;\n",
       "    }\n",
       "\n",
       "    .dataframe tbody tr th {\n",
       "        vertical-align: top;\n",
       "    }\n",
       "\n",
       "    .dataframe thead th {\n",
       "        text-align: right;\n",
       "    }\n",
       "</style>\n",
       "<table border=\"1\" class=\"dataframe\">\n",
       "  <thead>\n",
       "    <tr style=\"text-align: right;\">\n",
       "      <th></th>\n",
       "      <th>Brand</th>\n",
       "      <th>model</th>\n",
       "      <th>Year</th>\n",
       "      <th>Age</th>\n",
       "      <th>kmDriven</th>\n",
       "      <th>Transmission</th>\n",
       "      <th>Owner</th>\n",
       "      <th>FuelType</th>\n",
       "      <th>AskPrice</th>\n",
       "      <th>BrandCategory</th>\n",
       "      <th>Region ↕</th>\n",
       "      <th>Car Production ↕</th>\n",
       "    </tr>\n",
       "  </thead>\n",
       "  <tbody>\n",
       "    <tr>\n",
       "      <th>0</th>\n",
       "      <td>Honda</td>\n",
       "      <td>City</td>\n",
       "      <td>2001</td>\n",
       "      <td>23</td>\n",
       "      <td>98000.0</td>\n",
       "      <td>Manual</td>\n",
       "      <td>second</td>\n",
       "      <td>Petrol</td>\n",
       "      <td>195000.0</td>\n",
       "      <td>Global</td>\n",
       "      <td>Japan</td>\n",
       "      <td>7800000.0</td>\n",
       "    </tr>\n",
       "    <tr>\n",
       "      <th>1</th>\n",
       "      <td>Toyota</td>\n",
       "      <td>Innova</td>\n",
       "      <td>2009</td>\n",
       "      <td>15</td>\n",
       "      <td>190000.0</td>\n",
       "      <td>Manual</td>\n",
       "      <td>second</td>\n",
       "      <td>Diesel</td>\n",
       "      <td>375000.0</td>\n",
       "      <td>Global</td>\n",
       "      <td>Japan</td>\n",
       "      <td>7800000.0</td>\n",
       "    </tr>\n",
       "    <tr>\n",
       "      <th>2</th>\n",
       "      <td>Volkswagen</td>\n",
       "      <td>VentoTest</td>\n",
       "      <td>2010</td>\n",
       "      <td>14</td>\n",
       "      <td>77246.0</td>\n",
       "      <td>Manual</td>\n",
       "      <td>first</td>\n",
       "      <td>Diesel</td>\n",
       "      <td>184999.0</td>\n",
       "      <td>Global</td>\n",
       "      <td>Germany</td>\n",
       "      <td>3700000.0</td>\n",
       "    </tr>\n",
       "    <tr>\n",
       "      <th>3</th>\n",
       "      <td>Maruti Suzuki</td>\n",
       "      <td>Swift</td>\n",
       "      <td>2017</td>\n",
       "      <td>7</td>\n",
       "      <td>83500.0</td>\n",
       "      <td>Manual</td>\n",
       "      <td>second</td>\n",
       "      <td>Diesel</td>\n",
       "      <td>565000.0</td>\n",
       "      <td>Local</td>\n",
       "      <td>India</td>\n",
       "      <td>5500000.0</td>\n",
       "    </tr>\n",
       "    <tr>\n",
       "      <th>4</th>\n",
       "      <td>Maruti Suzuki</td>\n",
       "      <td>Baleno</td>\n",
       "      <td>2019</td>\n",
       "      <td>5</td>\n",
       "      <td>45000.0</td>\n",
       "      <td>Automatic</td>\n",
       "      <td>first</td>\n",
       "      <td>Petrol</td>\n",
       "      <td>685000.0</td>\n",
       "      <td>Local</td>\n",
       "      <td>India</td>\n",
       "      <td>5500000.0</td>\n",
       "    </tr>\n",
       "  </tbody>\n",
       "</table>\n",
       "</div>"
      ],
      "text/plain": [
       "           Brand      model  Year  Age  kmDriven Transmission   Owner  \\\n",
       "0          Honda       City  2001   23   98000.0       Manual  second   \n",
       "1         Toyota     Innova  2009   15  190000.0       Manual  second   \n",
       "2     Volkswagen  VentoTest  2010   14   77246.0       Manual   first   \n",
       "3  Maruti Suzuki      Swift  2017    7   83500.0       Manual  second   \n",
       "4  Maruti Suzuki     Baleno  2019    5   45000.0    Automatic   first   \n",
       "\n",
       "  FuelType  AskPrice BrandCategory Region ↕  Car Production ↕  \n",
       "0   Petrol  195000.0        Global    Japan         7800000.0  \n",
       "1   Diesel  375000.0        Global    Japan         7800000.0  \n",
       "2   Diesel  184999.0        Global  Germany         3700000.0  \n",
       "3   Diesel  565000.0         Local    India         5500000.0  \n",
       "4   Petrol  685000.0         Local    India         5500000.0  "
      ]
     },
     "execution_count": 47,
     "metadata": {},
     "output_type": "execute_result"
    }
   ],
   "source": [
    "used_car_df.head()"
   ]
  },
  {
   "cell_type": "markdown",
   "id": "7248aa39-3562-4225-bb35-dc23f96a5837",
   "metadata": {},
   "source": [
    "### 6.2 Data Exploration and Visualization"
   ]
  },
  {
   "cell_type": "markdown",
   "id": "007aefcc-0594-4c7d-b9fc-ae2d31551896",
   "metadata": {},
   "source": [
    "#### 6.2.1 Price Distribution for Different region"
   ]
  },
  {
   "cell_type": "markdown",
   "id": "9519bec2-3abc-49e5-97cf-20e8b358b5d8",
   "metadata": {},
   "source": [
    "I created boxplot to show how car prices vary across different regions. It helps to compare local and global brands and see how car production in each region affects pricing, which shows about how regional production trends influence local versus global brand choices."
   ]
  },
  {
   "cell_type": "code",
   "execution_count": 48,
   "id": "415e69b1-7694-410d-9a53-e2ce736f46d9",
   "metadata": {},
   "outputs": [
    {
     "data": {
      "image/png": "[encoded data removed]",
      "text/plain": [
       "<Figure size 800x600 with 1 Axes>"
      ]
     },
     "metadata": {},
     "output_type": "display_data"
    }
   ],
   "source": [
    "# Box plot for AskPrice by region\n",
    "plt.figure(figsize=(8, 6))\n",
    "sns.boxplot(data=used_car_df, x='Region ↕', y='AskPrice', palette='coolwarm')\n",
    "plt.title('Price Distribution Across Different Regions')\n",
    "plt.ylabel('Ask Price')\n",
    "plt.xlabel('Region')\n",
    "plt.xticks(rotation=90)\n",
    "plt.show()"
   ]
  },
  {
   "cell_type": "markdown",
   "id": "065c74a7-9587-40a5-9d10-ff0309b55606",
   "metadata": {},
   "source": [
    "**Insights:**\n",
    "- There is a wide variation in car prices across regions, with some regions like Germany, Japan, and the UK showing extremely high-value cars, while others like France and south korea have more concentrated price distributions around the mid-range.\n",
    "- Some regions, like Sweden and the UK, show a skew towards high-value cars, whereas countries like France and India have more affordable pricing in the lower quartiles.\n",
    "- The distribution of prices also reveals outliers in various regions, indicating the presence of luxury and high-end vehicles alongside more standard options."
   ]
  },
  {
   "cell_type": "markdown",
   "id": "e858dedd-665a-4826-b995-b48b8086a515",
   "metadata": {},
   "source": [
    "#### 6.2.2 Stacked bar chart for transmission type by brand category"
   ]
  },
  {
   "cell_type": "markdown",
   "id": "3e1c73b2-9c57-499a-be77-216cc3642f11",
   "metadata": {},
   "source": [
    "I created stacked bar chart to visualize the distribution of car transmissions across local and global brands. This chart helps to explore how the transmission types differ between local and global brands, providing insight into how these factors influence consumer preferences."
   ]
  },
  {
   "cell_type": "code",
   "execution_count": 49,
   "id": "808e8bdd-bb2a-4ccb-af18-d8da607e0a95",
   "metadata": {},
   "outputs": [
    {
     "name": "stdout",
     "output_type": "stream",
     "text": [
      "Transmission   Automatic  Manual\n",
      "BrandCategory                   \n",
      "Global              3483    2430\n",
      "Local               1299    2370\n"
     ]
    },
    {
     "data": {
      "image/png": "[encoded data removed]",
      "text/plain": [
       "<Figure size 800x600 with 1 Axes>"
      ]
     },
     "metadata": {},
     "output_type": "display_data"
    }
   ],
   "source": [
    "# Stacked bar chart for transmission type by brand category\n",
    "transmission_count = used_car_df.groupby(['BrandCategory', 'Transmission']).size().unstack()\n",
    "print(transmission_count)\n",
    "transmission_count.plot(kind='bar', stacked=True, figsize=(8, 6), color=['skyblue', 'salmon'])\n",
    "plt.title('Transmission Type by Local vs Global Brands')\n",
    "plt.ylabel('Count')\n",
    "plt.xlabel('Brand Category')\n",
    "plt.show()"
   ]
  },
  {
   "cell_type": "markdown",
   "id": "01f4458d-cd39-4b94-aaad-8bd6074feec5",
   "metadata": {},
   "source": [
    "**Insights:**\n",
    "- Global brands have a higher proportion of automatic transmissions compared to local brands, indicating a preference for convenience features in cars produced globally.\n",
    "- Local brands, have a more balanced distribution between manual and automatic transmissions, with a slightly higher number of manual transmission cars.\n",
    "- Global brands may cater to a different segment of the market that prefers automatic transmissions, while local brands offer more manual options, possibly due to cost considerations or different consumer preferences in India."
   ]
  },
  {
   "cell_type": "markdown",
   "id": "ff7f745a-3690-4f6f-8ef7-2387380e2f12",
   "metadata": {},
   "source": [
    "#### 6.2.3 Line plot for local vs global brands over years"
   ]
  },
  {
   "cell_type": "markdown",
   "id": "e5dd6e1f-494f-4f61-ab9c-1a200f4bc383",
   "metadata": {},
   "source": [
    "I created a line plot to track the number of local and global car brands over the years. This helps to see the trend of how local and global brands have changed in the Indian market."
   ]
  },
  {
   "cell_type": "code",
   "execution_count": 50,
   "id": "1fe3058a-4fa8-4dcb-926d-4df7837b7a71",
   "metadata": {},
   "outputs": [
    {
     "data": {
      "image/png": "[encoded data removed]",
      "text/plain": [
       "<Figure size 1000x600 with 1 Axes>"
      ]
     },
     "metadata": {},
     "output_type": "display_data"
    }
   ],
   "source": [
    "# Line plot for local vs global brands over years\n",
    "brand_year = used_car_df.groupby(['Year', 'BrandCategory']).size().unstack().reset_index()\n",
    "brand_year.plot(x='Year', kind='line', stacked=False, figsize=(10, 6), marker='o')\n",
    "plt.title('Trends of Local vs Global Brands Over Time')\n",
    "plt.ylabel('Car Count')\n",
    "plt.xlabel('Year')\n",
    "plt.show()\n"
   ]
  },
  {
   "cell_type": "markdown",
   "id": "6a4fa83f-0756-49db-9351-756de58c29e6",
   "metadata": {},
   "source": [
    "**Insights:**\n",
    "- Global brands saw a gradual increase in presence starting from 2000, peaking between 2013 and 2017.\n",
    "- Local brands has a sharp rise in the number of vehicles from 2014 onwards.\n",
    "- Both global and local brands experienced a decline in 2020 and 2021, likely due to the COVID-19 pandemic's impact.\n",
    "- Local brands maintained a consistent and strong market presence, especially after 2015, despite fluctuations in global brand numbers."
   ]
  },
  {
   "cell_type": "markdown",
   "id": "4a9d557a-7226-49e3-b666-e579c1046d7e",
   "metadata": {},
   "source": [
    "#### 6.2.4 Correlation between Car Production and AskPrice"
   ]
  },
  {
   "cell_type": "markdown",
   "id": "7bba03a9-3fd7-403a-9d1d-3b1dc1471e49",
   "metadata": {},
   "source": [
    "I analyzed the correlation between car production and ask price to see if global car production trends influence the pricing of used cars in India. This helps to understand how production volumes of local and global brands might affect used car prices in the Indian market."
   ]
  },
  {
   "cell_type": "code",
   "execution_count": 51,
   "id": "c47d8969-28b6-4c09-a081-c30f6e8e4ffe",
   "metadata": {},
   "outputs": [
    {
     "data": {
      "image/png": "[encoded data removed]",
      "text/plain": [
       "<Figure size 600x500 with 2 Axes>"
      ]
     },
     "metadata": {},
     "output_type": "display_data"
    }
   ],
   "source": [
    "corr = used_car_df[['Car Production ↕', 'AskPrice']].corr()\n",
    "plt.figure(figsize=(6, 5))\n",
    "sns.heatmap(corr, annot=True, cmap='coolwarm', fmt='.2f')\n",
    "plt.title('Correlation between Car Production and Ask Price')\n",
    "plt.show()"
   ]
  },
  {
   "cell_type": "markdown",
   "id": "4df9cd76-a04e-4def-8ae9-09ce3cd20183",
   "metadata": {},
   "source": [
    "**Insights:**\n",
    "- The correlation value of -0.01 suggests there is a very weak negative correlation between car production and the ask price of cars. This means that as car production increases slightly, the ask price tends to decrease.\n",
    "- Hence, there is no significant relationship between car production and the ask price, as indicated by the near-zero correlation. This means that the global production of cars does not directly influence the pricing of used cars in India in your dataset.\n",
    "- The very weak negative correlation could tell that, at least in this dataset, the production of cars may not significantly impact the used car prices."
   ]
  },
  {
   "cell_type": "markdown",
   "id": "b1327fdc-3771-4ee6-aa7d-1f1cd3e40a13",
   "metadata": {},
   "source": [
    "## 7 Conclusion"
   ]
  },
  {
   "cell_type": "markdown",
   "id": "083e0970-ab87-4bf9-b948-08781557588f",
   "metadata": {},
   "source": [
    "To conclude, in India’s used car market, people tend to prefer local brands like Maruti Suzuki because they are more affordable, while global brands like Toyota and Volkswagen attract buyers looking for higher-end features. The global car production trends show that countries like Japan and Germany produce more cars, which makes these global brands more available in India. This shows how the choices of local and global brands in India are linked to global car production, with affordability and brand prestige influencing buyer decisions."
   ]
  },
  {
   "cell_type": "markdown",
   "id": "07ad43bd-5b2b-49c2-b27c-21883d57fa34",
   "metadata": {},
   "source": [
    "## 8 Saving the Libraries in requirements file"
   ]
  },
  {
   "cell_type": "code",
   "execution_count": 52,
   "id": "75afea09-f5ae-4447-bea1-d77041b3821b",
   "metadata": {},
   "outputs": [
    {
     "name": "stdout",
     "output_type": "stream",
     "text": [
      "Note: you may need to restart the kernel to use updated packages.\n"
     ]
    }
   ],
   "source": [
    "pip freeze > requirements.txt"
   ]
  },
  {
   "cell_type": "markdown",
   "id": "d6282255-3eba-40ac-921c-8190258b0670",
   "metadata": {},
   "source": [
    "## 9 References"
   ]
  },
  {
   "cell_type": "markdown",
   "id": "c5672d08-ba4b-483f-9ad3-116157f3433c",
   "metadata": {},
   "source": [
    "DataPandas, 2024, Car production by country. Available at: https://www.datapandas.org/ranking/car-production-by-country (Accessed: 9 December 2024)"
   ]
  },
  {
   "cell_type": "markdown",
   "id": "9005948d-dddd-4a3d-be06-c79e9fdac05a",
   "metadata": {},
   "source": [
    "Kumar, M., 2024, Used Car Dataset. Available at: https://www.kaggle.com/datasets/mohitkumar282/used-car-dataset (Accessed: 10 December 2024)"
   ]
  },
  {
   "cell_type": "markdown",
   "id": "b9e798ac-19a1-419d-9627-9a43b5547b6c",
   "metadata": {},
   "source": [
    "List of countries by vehicle exports, 2024. Available at: https://en.wikipedia.org/wiki/List_of_countries_by_vehicle_exports (Accessed: 15 December 2024)"
   ]
  },
  {
   "cell_type": "markdown",
   "id": "cd29c3c9-5c9b-4a21-90fc-21d0defb5697",
   "metadata": {},
   "source": [
    "Chen, X., Gu, S., Deng, X. and Huang, L., 2022. Used Car Prices in India: What about Future?. Available at: https://www.researchgate.net/publication/363370759_Used_Car_Prices_in_India_What_about_Future (Accessed: 15 December 2024)"
   ]
  },
  {
   "cell_type": "markdown",
   "id": "ab1dd02b-dde6-4811-a9a3-4a5815f61147",
   "metadata": {},
   "source": [
    "Pavlinek, P., 2022. Transition of the automotive industry towards electric vehicle production in the east European integrated periphery. https://www.researchgate.net/publication/365001279_Transition_of_the_automotive_industry_towards_electric_vehicle_production_in_the_east_European_integrated_periphery (Accessed: 15 December 2024)"
   ]
  }
 ],
 "metadata": {
  "kernelspec": {
   "display_name": "Python 3 (ipykernel)",
   "language": "python",
   "name": "python3"
  },
  "language_info": {
   "codemirror_mode": {
    "name": "ipython",
    "version": 3
   },
   "file_extension": ".py",
   "mimetype": "text/x-python",
   "name": "python",
   "nbconvert_exporter": "python",
   "pygments_lexer": "ipython3",
   "version": "3.12.4"
  }
 },
 "nbformat": 4,
 "nbformat_minor": 5
}
